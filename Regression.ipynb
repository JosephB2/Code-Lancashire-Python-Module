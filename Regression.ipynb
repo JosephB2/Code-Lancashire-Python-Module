{
 "cells": [
  {
   "cell_type": "markdown",
   "id": "2e679331",
   "metadata": {},
   "source": [
    "<h1>Introduction to regression</h1>\n",
    "In this notebook we will have an overview of regression and how scikit-learn can be used to regress data."
   ]
  },
  {
   "cell_type": "code",
   "execution_count": 1,
   "id": "40871aaf",
   "metadata": {},
   "outputs": [],
   "source": [
    "# Importing the holy trinity of data science.\n",
    "import pandas as pd\n",
    "import matplotlib.pyplot as plt\n",
    "import numpy as np\n",
    "\n",
    "# getting seaborn online to give our graphics a kick.\n",
    "import seaborn as sns\n",
    "sns.set()"
   ]
  },
  {
   "cell_type": "markdown",
   "id": "93e51da6",
   "metadata": {},
   "source": [
    "First, let us work towards building an intuition of the problem at hand by considering the dataset ds1 below,"
   ]
  },
  {
   "cell_type": "code",
   "execution_count": 2,
   "id": "6231d87c",
   "metadata": {},
   "outputs": [
    {
     "data": {
      "text/plain": [
       "[<matplotlib.lines.Line2D at 0x1f760111450>]"
      ]
     },
     "execution_count": 2,
     "metadata": {},
     "output_type": "execute_result"
    },
    {
     "data": {
      "image/png": "[encoded data removed]",
      "text/plain": [
       "<Figure size 640x480 with 1 Axes>"
      ]
     },
     "metadata": {},
     "output_type": "display_data"
    }
   ],
   "source": [
    "ds1 = [0,1,2,3,4,5,6]\n",
    "plt.plot(ds1, marker='*',linestyle='')"
   ]
  },
  {
   "cell_type": "markdown",
   "id": "72df9f31",
   "metadata": {},
   "source": [
    "Assuming that the red dot in the plot is a continuation of the dataset ds1 how can you workout the continuation of the this sequence?"
   ]
  },
  {
   "cell_type": "code",
   "execution_count": 4,
   "id": "88ff57bd",
   "metadata": {},
   "outputs": [
    {
     "data": {
      "text/plain": [
       "<matplotlib.collections.PathCollection at 0x1f762380190>"
      ]
     },
     "execution_count": 4,
     "metadata": {},
     "output_type": "execute_result"
    },
    {
     "data": {
      "image/png": "[encoded data removed]",
      "text/plain": [
       "<Figure size 640x480 with 1 Axes>"
      ]
     },
     "metadata": {},
     "output_type": "display_data"
    }
   ],
   "source": [
    "plt.plot(ds1, marker='*',linestyle='')\n",
    "plt.scatter(np.arange(7,10),np.arange(7,10),c='r')"
   ]
  },
  {
   "cell_type": "markdown",
   "id": "a1757f4c",
   "metadata": {},
   "source": [
    "Linear equations take the shape:\n",
    "\n",
    "$$ Y = aX+b$$\n",
    "\n",
    "From this, all we need is two points to workout the coefficient $$a$$ and knowing the value of $$Y(X=0)$$ to obtain B."
   ]
  },
  {
   "cell_type": "code",
   "execution_count": null,
   "id": "9c04fa81",
   "metadata": {},
   "outputs": [],
   "source": []
  },
  {
   "cell_type": "markdown",
   "id": "f05661e8",
   "metadata": {},
   "source": [
    "Question, would this logic work for the dataset plotted below?"
   ]
  },
  {
   "cell_type": "code",
   "execution_count": null,
   "id": "953c14d0",
   "metadata": {},
   "outputs": [],
   "source": [
    "ds2 = [x**2 for x in range(10)]\n",
    "plt.plot(ds2, marker='*',linestyle='')"
   ]
  },
  {
   "cell_type": "code",
   "execution_count": null,
   "id": "c8804be2",
   "metadata": {},
   "outputs": [],
   "source": [
    "del ds1,ds2"
   ]
  },
  {
   "cell_type": "markdown",
   "id": "2ef68311",
   "metadata": {},
   "source": [
    "Now let us import our dataset."
   ]
  },
  {
   "cell_type": "code",
   "execution_count": 6,
   "id": "70c486d1",
   "metadata": {},
   "outputs": [],
   "source": [
    "df = pd.read_csv('Datasets/ds_salaries.csv',sep=',',index_col=0)"
   ]
  },
  {
   "cell_type": "code",
   "execution_count": 7,
   "id": "13093c4b",
   "metadata": {},
   "outputs": [
    {
     "data": {
      "text/plain": [
       "Index(['work_year', 'experience_level', 'employment_type', 'job_title',\n",
       "       'salary', 'salary_currency', 'salary_in_usd', 'employee_residence',\n",
       "       'remote_ratio', 'company_location', 'company_size'],\n",
       "      dtype='object')"
      ]
     },
     "execution_count": 7,
     "metadata": {},
     "output_type": "execute_result"
    }
   ],
   "source": [
    "df.keys()"
   ]
  },
  {
   "cell_type": "code",
   "execution_count": 9,
   "id": "17eda4dd",
   "metadata": {},
   "outputs": [
    {
     "data": {
      "text/html": [
       "<div>\n",
       "<style scoped>\n",
       "    .dataframe tbody tr th:only-of-type {\n",
       "        vertical-align: middle;\n",
       "    }\n",
       "\n",
       "    .dataframe tbody tr th {\n",
       "        vertical-align: top;\n",
       "    }\n",
       "\n",
       "    .dataframe thead th {\n",
       "        text-align: right;\n",
       "    }\n",
       "</style>\n",
       "<table border=\"1\" class=\"dataframe\">\n",
       "  <thead>\n",
       "    <tr style=\"text-align: right;\">\n",
       "      <th></th>\n",
       "      <th>work_year</th>\n",
       "      <th>experience_level</th>\n",
       "      <th>employment_type</th>\n",
       "      <th>job_title</th>\n",
       "      <th>salary</th>\n",
       "      <th>salary_currency</th>\n",
       "      <th>salary_in_usd</th>\n",
       "      <th>employee_residence</th>\n",
       "      <th>remote_ratio</th>\n",
       "      <th>company_location</th>\n",
       "      <th>company_size</th>\n",
       "    </tr>\n",
       "  </thead>\n",
       "  <tbody>\n",
       "    <tr>\n",
       "      <th>0</th>\n",
       "      <td>2020</td>\n",
       "      <td>MI</td>\n",
       "      <td>FT</td>\n",
       "      <td>Data Scientist</td>\n",
       "      <td>70000</td>\n",
       "      <td>EUR</td>\n",
       "      <td>79833</td>\n",
       "      <td>DE</td>\n",
       "      <td>0</td>\n",
       "      <td>DE</td>\n",
       "      <td>L</td>\n",
       "    </tr>\n",
       "    <tr>\n",
       "      <th>1</th>\n",
       "      <td>2020</td>\n",
       "      <td>SE</td>\n",
       "      <td>FT</td>\n",
       "      <td>Machine Learning Scientist</td>\n",
       "      <td>260000</td>\n",
       "      <td>USD</td>\n",
       "      <td>260000</td>\n",
       "      <td>JP</td>\n",
       "      <td>0</td>\n",
       "      <td>JP</td>\n",
       "      <td>S</td>\n",
       "    </tr>\n",
       "    <tr>\n",
       "      <th>2</th>\n",
       "      <td>2020</td>\n",
       "      <td>SE</td>\n",
       "      <td>FT</td>\n",
       "      <td>Big Data Engineer</td>\n",
       "      <td>85000</td>\n",
       "      <td>GBP</td>\n",
       "      <td>109024</td>\n",
       "      <td>GB</td>\n",
       "      <td>50</td>\n",
       "      <td>GB</td>\n",
       "      <td>M</td>\n",
       "    </tr>\n",
       "    <tr>\n",
       "      <th>3</th>\n",
       "      <td>2020</td>\n",
       "      <td>MI</td>\n",
       "      <td>FT</td>\n",
       "      <td>Product Data Analyst</td>\n",
       "      <td>20000</td>\n",
       "      <td>USD</td>\n",
       "      <td>20000</td>\n",
       "      <td>HN</td>\n",
       "      <td>0</td>\n",
       "      <td>HN</td>\n",
       "      <td>S</td>\n",
       "    </tr>\n",
       "    <tr>\n",
       "      <th>4</th>\n",
       "      <td>2020</td>\n",
       "      <td>SE</td>\n",
       "      <td>FT</td>\n",
       "      <td>Machine Learning Engineer</td>\n",
       "      <td>150000</td>\n",
       "      <td>USD</td>\n",
       "      <td>150000</td>\n",
       "      <td>US</td>\n",
       "      <td>50</td>\n",
       "      <td>US</td>\n",
       "      <td>L</td>\n",
       "    </tr>\n",
       "    <tr>\n",
       "      <th>5</th>\n",
       "      <td>2020</td>\n",
       "      <td>EN</td>\n",
       "      <td>FT</td>\n",
       "      <td>Data Analyst</td>\n",
       "      <td>72000</td>\n",
       "      <td>USD</td>\n",
       "      <td>72000</td>\n",
       "      <td>US</td>\n",
       "      <td>100</td>\n",
       "      <td>US</td>\n",
       "      <td>L</td>\n",
       "    </tr>\n",
       "    <tr>\n",
       "      <th>6</th>\n",
       "      <td>2020</td>\n",
       "      <td>SE</td>\n",
       "      <td>FT</td>\n",
       "      <td>Lead Data Scientist</td>\n",
       "      <td>190000</td>\n",
       "      <td>USD</td>\n",
       "      <td>190000</td>\n",
       "      <td>US</td>\n",
       "      <td>100</td>\n",
       "      <td>US</td>\n",
       "      <td>S</td>\n",
       "    </tr>\n",
       "    <tr>\n",
       "      <th>7</th>\n",
       "      <td>2020</td>\n",
       "      <td>MI</td>\n",
       "      <td>FT</td>\n",
       "      <td>Data Scientist</td>\n",
       "      <td>11000000</td>\n",
       "      <td>HUF</td>\n",
       "      <td>35735</td>\n",
       "      <td>HU</td>\n",
       "      <td>50</td>\n",
       "      <td>HU</td>\n",
       "      <td>L</td>\n",
       "    </tr>\n",
       "    <tr>\n",
       "      <th>8</th>\n",
       "      <td>2020</td>\n",
       "      <td>MI</td>\n",
       "      <td>FT</td>\n",
       "      <td>Business Data Analyst</td>\n",
       "      <td>135000</td>\n",
       "      <td>USD</td>\n",
       "      <td>135000</td>\n",
       "      <td>US</td>\n",
       "      <td>100</td>\n",
       "      <td>US</td>\n",
       "      <td>L</td>\n",
       "    </tr>\n",
       "    <tr>\n",
       "      <th>9</th>\n",
       "      <td>2020</td>\n",
       "      <td>SE</td>\n",
       "      <td>FT</td>\n",
       "      <td>Lead Data Engineer</td>\n",
       "      <td>125000</td>\n",
       "      <td>USD</td>\n",
       "      <td>125000</td>\n",
       "      <td>NZ</td>\n",
       "      <td>50</td>\n",
       "      <td>NZ</td>\n",
       "      <td>S</td>\n",
       "    </tr>\n",
       "  </tbody>\n",
       "</table>\n",
       "</div>"
      ],
      "text/plain": [
       "   work_year experience_level employment_type                   job_title  \\\n",
       "0       2020               MI              FT              Data Scientist   \n",
       "1       2020               SE              FT  Machine Learning Scientist   \n",
       "2       2020               SE              FT           Big Data Engineer   \n",
       "3       2020               MI              FT        Product Data Analyst   \n",
       "4       2020               SE              FT   Machine Learning Engineer   \n",
       "5       2020               EN              FT                Data Analyst   \n",
       "6       2020               SE              FT         Lead Data Scientist   \n",
       "7       2020               MI              FT              Data Scientist   \n",
       "8       2020               MI              FT       Business Data Analyst   \n",
       "9       2020               SE              FT          Lead Data Engineer   \n",
       "\n",
       "     salary salary_currency  salary_in_usd employee_residence  remote_ratio  \\\n",
       "0     70000             EUR          79833                 DE             0   \n",
       "1    260000             USD         260000                 JP             0   \n",
       "2     85000             GBP         109024                 GB            50   \n",
       "3     20000             USD          20000                 HN             0   \n",
       "4    150000             USD         150000                 US            50   \n",
       "5     72000             USD          72000                 US           100   \n",
       "6    190000             USD         190000                 US           100   \n",
       "7  11000000             HUF          35735                 HU            50   \n",
       "8    135000             USD         135000                 US           100   \n",
       "9    125000             USD         125000                 NZ            50   \n",
       "\n",
       "  company_location company_size  \n",
       "0               DE            L  \n",
       "1               JP            S  \n",
       "2               GB            M  \n",
       "3               HN            S  \n",
       "4               US            L  \n",
       "5               US            L  \n",
       "6               US            S  \n",
       "7               HU            L  \n",
       "8               US            L  \n",
       "9               NZ            S  "
      ]
     },
     "execution_count": 9,
     "metadata": {},
     "output_type": "execute_result"
    }
   ],
   "source": [
    "df.head(10)"
   ]
  },
  {
   "cell_type": "markdown",
   "id": "24bd7be5",
   "metadata": {},
   "source": [
    "Exercises:\n",
    "\n",
    "- what would you consider an average, low and high salary for data scientist worldwide and in GB?\n",
    "\n",
    "- Can you make a graphic containing the distribution of these salaries?\n",
    "\n",
    "- Compare the salaries of DSs that work at the office, hybrid or remote."
   ]
  },
  {
   "cell_type": "code",
   "execution_count": 16,
   "id": "6953c952",
   "metadata": {},
   "outputs": [
    {
     "data": {
      "text/plain": [
       "count       143.000000\n",
       "mean     108187.832168\n",
       "std       64112.840519\n",
       "min        2859.000000\n",
       "25%       54724.000000\n",
       "50%      103691.000000\n",
       "75%      140850.000000\n",
       "max      412000.000000\n",
       "Name: salary_in_usd, dtype: float64"
      ]
     },
     "execution_count": 16,
     "metadata": {},
     "output_type": "execute_result"
    }
   ],
   "source": [
    "df[df['job_title']=='Data Scientist']['salary_in_usd'].describe()"
   ]
  },
  {
   "cell_type": "code",
   "execution_count": null,
   "id": "7f3bc04a",
   "metadata": {},
   "outputs": [
    {
     "data": {
      "text/plain": [
       "array([[<Axes: title={'center': 'salary_in_usd'}>]], dtype=object)"
      ]
     },
     "execution_count": 15,
     "metadata": {},
     "output_type": "execute_result"
    },
    {
     "data": {
      "image/png": "[encoded data removed]",
      "text/plain": [
       "<Figure size 640x480 with 1 Axes>"
      ]
     },
     "metadata": {},
     "output_type": "display_data"
    }
   ],
   "source": [
    "df[df['job_title']=='Data Scientist'].hist('salary_in_usd')"
   ]
  },
  {
   "cell_type": "code",
   "execution_count": 19,
   "id": "cc995f93",
   "metadata": {},
   "outputs": [
    {
     "name": "stderr",
     "output_type": "stream",
     "text": [
      "C:\\Users\\CODELearner3\\AppData\\Local\\Temp\\ipykernel_5424\\1951202528.py:1: UserWarning: Boolean Series key will be reindexed to match DataFrame index.\n",
      "  df[df['job_title']=='Data Scientist'][df['employee_residence']=='GB'].hist('salary_in_usd')\n"
     ]
    },
    {
     "data": {
      "text/plain": [
       "array([[<Axes: title={'center': 'salary_in_usd'}>]], dtype=object)"
      ]
     },
     "execution_count": 19,
     "metadata": {},
     "output_type": "execute_result"
    },
    {
     "data": {
      "image/png": "[encoded data removed]",
      "text/plain": [
       "<Figure size 640x480 with 1 Axes>"
      ]
     },
     "metadata": {},
     "output_type": "display_data"
    }
   ],
   "source": [
    "df[df['job_title']=='Data Scientist'][df['employee_residence']=='GB'].hist('salary_in_usd')"
   ]
  },
  {
   "cell_type": "code",
   "execution_count": 52,
   "id": "5ca6c457",
   "metadata": {},
   "outputs": [
    {
     "name": "stderr",
     "output_type": "stream",
     "text": [
      "C:\\Users\\CODELearner3\\AppData\\Local\\Temp\\ipykernel_5424\\2099310370.py:3: UserWarning: Boolean Series key will be reindexed to match DataFrame index.\n",
      "  df[df['job_title']=='Data Scientist'][df['employee_residence']=='GB']['salary_in_usd'].plot.hist(ax=axes, bins=20, alpha=.5, color='red')\n",
      "C:\\Users\\CODELearner3\\AppData\\Local\\Temp\\ipykernel_5424\\2099310370.py:4: UserWarning: Boolean Series key will be reindexed to match DataFrame index.\n",
      "  df[df['job_title']=='Data Scientist'][df['employee_residence']=='US']['salary_in_usd'].plot.hist(ax=axes, bins=20, alpha=.5, color='blue')\n"
     ]
    },
    {
     "data": {
      "text/plain": [
       "Text(0.5, 1.0, 'salary')"
      ]
     },
     "execution_count": 52,
     "metadata": {},
     "output_type": "execute_result"
    },
    {
     "data": {
      "image/png": "[encoded data removed]",
      "text/plain": [
       "<Figure size 640x480 with 1 Axes>"
      ]
     },
     "metadata": {},
     "output_type": "display_data"
    }
   ],
   "source": [
    "fig, axes = plt.subplots(nrows=1, ncols=1)\n",
    "\n",
    "df[df['job_title']=='Data Scientist'][df['employee_residence']=='GB']['salary_in_usd'].plot.hist(ax=axes, bins=20, alpha=.5, color='red')\n",
    "df[df['job_title']=='Data Scientist'][df['employee_residence']=='US']['salary_in_usd'].plot.hist(ax=axes, bins=20, alpha=.5, color='blue')\n",
    "axes.set_title('salary')"
   ]
  },
  {
   "cell_type": "code",
   "execution_count": null,
   "id": "25cd275c",
   "metadata": {},
   "outputs": [],
   "source": [
    "df.salary_in_usd.describe()"
   ]
  },
  {
   "cell_type": "code",
   "execution_count": 47,
   "id": "0c8a4300",
   "metadata": {},
   "outputs": [
    {
     "data": {
      "text/plain": [
       "Index(['work_year', 'experience_level', 'employment_type', 'job_title',\n",
       "       'salary', 'salary_currency', 'salary_in_usd', 'employee_residence',\n",
       "       'remote_ratio', 'company_location', 'company_size'],\n",
       "      dtype='object')"
      ]
     },
     "execution_count": 47,
     "metadata": {},
     "output_type": "execute_result"
    }
   ],
   "source": [
    "df.keys()"
   ]
  },
  {
   "cell_type": "code",
   "execution_count": 48,
   "id": "dc5ee7b6",
   "metadata": {},
   "outputs": [
    {
     "data": {
      "text/plain": [
       "607"
      ]
     },
     "execution_count": 48,
     "metadata": {},
     "output_type": "execute_result"
    }
   ],
   "source": [
    "len(df)"
   ]
  },
  {
   "cell_type": "code",
   "execution_count": 49,
   "id": "5ae68261",
   "metadata": {},
   "outputs": [
    {
     "data": {
      "text/plain": [
       "company_location\n",
       "US    355\n",
       "GB     47\n",
       "CA     30\n",
       "DE     28\n",
       "IN     24\n",
       "FR     15\n",
       "ES     14\n",
       "GR     11\n",
       "JP      6\n",
       "NL      4\n",
       "PT      4\n",
       "PL      4\n",
       "AT      4\n",
       "MX      3\n",
       "DK      3\n",
       "AE      3\n",
       "PK      3\n",
       "LU      3\n",
       "TR      3\n",
       "BR      3\n",
       "AU      3\n",
       "RU      2\n",
       "CN      2\n",
       "CH      2\n",
       "BE      2\n",
       "NG      2\n",
       "SI      2\n",
       "IT      2\n",
       "CZ      2\n",
       "NZ      1\n",
       "HU      1\n",
       "HN      1\n",
       "SG      1\n",
       "HR      1\n",
       "MT      1\n",
       "IL      1\n",
       "UA      1\n",
       "RO      1\n",
       "IQ      1\n",
       "MD      1\n",
       "CL      1\n",
       "IR      1\n",
       "VN      1\n",
       "KE      1\n",
       "CO      1\n",
       "AS      1\n",
       "DZ      1\n",
       "EE      1\n",
       "MY      1\n",
       "IE      1\n",
       "Name: count, dtype: int64"
      ]
     },
     "execution_count": 49,
     "metadata": {},
     "output_type": "execute_result"
    }
   ],
   "source": [
    "df.company_location.value_counts()"
   ]
  },
  {
   "cell_type": "code",
   "execution_count": 50,
   "id": "47cddb32",
   "metadata": {},
   "outputs": [
    {
     "data": {
      "text/plain": [
       "count       355.000000\n",
       "mean     144055.261972\n",
       "std       69906.895041\n",
       "min        5679.000000\n",
       "25%      100000.000000\n",
       "50%      135000.000000\n",
       "75%      170000.000000\n",
       "max      600000.000000\n",
       "Name: salary_in_usd, dtype: float64"
      ]
     },
     "execution_count": 50,
     "metadata": {},
     "output_type": "execute_result"
    }
   ],
   "source": [
    "df[df.company_location == 'US'].salary_in_usd.describe()"
   ]
  },
  {
   "cell_type": "code",
   "execution_count": null,
   "id": "f3fa5326",
   "metadata": {},
   "outputs": [],
   "source": [
    "df[df.company_location == 'GB'].salary_in_usd.describe()"
   ]
  },
  {
   "cell_type": "code",
   "execution_count": null,
   "id": "5a8d5f72",
   "metadata": {},
   "outputs": [],
   "source": [
    "df.columns"
   ]
  },
  {
   "cell_type": "code",
   "execution_count": 53,
   "id": "7778cc7c",
   "metadata": {},
   "outputs": [
    {
     "data": {
      "text/html": [
       "<div>\n",
       "<style scoped>\n",
       "    .dataframe tbody tr th:only-of-type {\n",
       "        vertical-align: middle;\n",
       "    }\n",
       "\n",
       "    .dataframe tbody tr th {\n",
       "        vertical-align: top;\n",
       "    }\n",
       "\n",
       "    .dataframe thead th {\n",
       "        text-align: right;\n",
       "    }\n",
       "</style>\n",
       "<table border=\"1\" class=\"dataframe\">\n",
       "  <thead>\n",
       "    <tr style=\"text-align: right;\">\n",
       "      <th></th>\n",
       "      <th>work_year</th>\n",
       "      <th>experience_level</th>\n",
       "      <th>employment_type</th>\n",
       "      <th>job_title</th>\n",
       "      <th>salary</th>\n",
       "      <th>salary_currency</th>\n",
       "      <th>salary_in_usd</th>\n",
       "      <th>employee_residence</th>\n",
       "      <th>remote_ratio</th>\n",
       "      <th>company_location</th>\n",
       "      <th>company_size</th>\n",
       "    </tr>\n",
       "  </thead>\n",
       "  <tbody>\n",
       "    <tr>\n",
       "      <th>17</th>\n",
       "      <td>2020</td>\n",
       "      <td>SE</td>\n",
       "      <td>FT</td>\n",
       "      <td>Big Data Engineer</td>\n",
       "      <td>100000</td>\n",
       "      <td>EUR</td>\n",
       "      <td>114047</td>\n",
       "      <td>PL</td>\n",
       "      <td>100</td>\n",
       "      <td>GB</td>\n",
       "      <td>S</td>\n",
       "    </tr>\n",
       "    <tr>\n",
       "      <th>19</th>\n",
       "      <td>2020</td>\n",
       "      <td>MI</td>\n",
       "      <td>FT</td>\n",
       "      <td>Lead Data Engineer</td>\n",
       "      <td>56000</td>\n",
       "      <td>USD</td>\n",
       "      <td>56000</td>\n",
       "      <td>PT</td>\n",
       "      <td>100</td>\n",
       "      <td>US</td>\n",
       "      <td>M</td>\n",
       "    </tr>\n",
       "    <tr>\n",
       "      <th>32</th>\n",
       "      <td>2020</td>\n",
       "      <td>SE</td>\n",
       "      <td>FT</td>\n",
       "      <td>Data Scientist</td>\n",
       "      <td>60000</td>\n",
       "      <td>EUR</td>\n",
       "      <td>68428</td>\n",
       "      <td>GR</td>\n",
       "      <td>100</td>\n",
       "      <td>US</td>\n",
       "      <td>L</td>\n",
       "    </tr>\n",
       "    <tr>\n",
       "      <th>40</th>\n",
       "      <td>2020</td>\n",
       "      <td>MI</td>\n",
       "      <td>FT</td>\n",
       "      <td>Data Scientist</td>\n",
       "      <td>45760</td>\n",
       "      <td>USD</td>\n",
       "      <td>45760</td>\n",
       "      <td>PH</td>\n",
       "      <td>100</td>\n",
       "      <td>US</td>\n",
       "      <td>S</td>\n",
       "    </tr>\n",
       "    <tr>\n",
       "      <th>53</th>\n",
       "      <td>2020</td>\n",
       "      <td>EN</td>\n",
       "      <td>FT</td>\n",
       "      <td>Data Engineer</td>\n",
       "      <td>48000</td>\n",
       "      <td>EUR</td>\n",
       "      <td>54742</td>\n",
       "      <td>PK</td>\n",
       "      <td>100</td>\n",
       "      <td>DE</td>\n",
       "      <td>L</td>\n",
       "    </tr>\n",
       "    <tr>\n",
       "      <th>54</th>\n",
       "      <td>2020</td>\n",
       "      <td>SE</td>\n",
       "      <td>FL</td>\n",
       "      <td>Computer Vision Engineer</td>\n",
       "      <td>60000</td>\n",
       "      <td>USD</td>\n",
       "      <td>60000</td>\n",
       "      <td>RU</td>\n",
       "      <td>100</td>\n",
       "      <td>US</td>\n",
       "      <td>S</td>\n",
       "    </tr>\n",
       "    <tr>\n",
       "      <th>61</th>\n",
       "      <td>2020</td>\n",
       "      <td>MI</td>\n",
       "      <td>FT</td>\n",
       "      <td>Data Engineer</td>\n",
       "      <td>130800</td>\n",
       "      <td>USD</td>\n",
       "      <td>130800</td>\n",
       "      <td>ES</td>\n",
       "      <td>100</td>\n",
       "      <td>US</td>\n",
       "      <td>M</td>\n",
       "    </tr>\n",
       "    <tr>\n",
       "      <th>70</th>\n",
       "      <td>2020</td>\n",
       "      <td>MI</td>\n",
       "      <td>FT</td>\n",
       "      <td>Data Scientist</td>\n",
       "      <td>55000</td>\n",
       "      <td>EUR</td>\n",
       "      <td>62726</td>\n",
       "      <td>FR</td>\n",
       "      <td>50</td>\n",
       "      <td>LU</td>\n",
       "      <td>S</td>\n",
       "    </tr>\n",
       "    <tr>\n",
       "      <th>73</th>\n",
       "      <td>2021</td>\n",
       "      <td>EX</td>\n",
       "      <td>FT</td>\n",
       "      <td>BI Data Analyst</td>\n",
       "      <td>150000</td>\n",
       "      <td>USD</td>\n",
       "      <td>150000</td>\n",
       "      <td>IN</td>\n",
       "      <td>100</td>\n",
       "      <td>US</td>\n",
       "      <td>L</td>\n",
       "    </tr>\n",
       "    <tr>\n",
       "      <th>82</th>\n",
       "      <td>2021</td>\n",
       "      <td>MI</td>\n",
       "      <td>FT</td>\n",
       "      <td>Applied Data Scientist</td>\n",
       "      <td>68000</td>\n",
       "      <td>CAD</td>\n",
       "      <td>54238</td>\n",
       "      <td>GB</td>\n",
       "      <td>50</td>\n",
       "      <td>CA</td>\n",
       "      <td>L</td>\n",
       "    </tr>\n",
       "    <tr>\n",
       "      <th>84</th>\n",
       "      <td>2021</td>\n",
       "      <td>EX</td>\n",
       "      <td>FT</td>\n",
       "      <td>Director of Data Science</td>\n",
       "      <td>130000</td>\n",
       "      <td>EUR</td>\n",
       "      <td>153667</td>\n",
       "      <td>IT</td>\n",
       "      <td>100</td>\n",
       "      <td>PL</td>\n",
       "      <td>L</td>\n",
       "    </tr>\n",
       "    <tr>\n",
       "      <th>89</th>\n",
       "      <td>2021</td>\n",
       "      <td>SE</td>\n",
       "      <td>FT</td>\n",
       "      <td>Data Analyst</td>\n",
       "      <td>80000</td>\n",
       "      <td>USD</td>\n",
       "      <td>80000</td>\n",
       "      <td>BG</td>\n",
       "      <td>100</td>\n",
       "      <td>US</td>\n",
       "      <td>S</td>\n",
       "    </tr>\n",
       "    <tr>\n",
       "      <th>90</th>\n",
       "      <td>2021</td>\n",
       "      <td>SE</td>\n",
       "      <td>FT</td>\n",
       "      <td>Marketing Data Analyst</td>\n",
       "      <td>75000</td>\n",
       "      <td>EUR</td>\n",
       "      <td>88654</td>\n",
       "      <td>GR</td>\n",
       "      <td>100</td>\n",
       "      <td>DK</td>\n",
       "      <td>L</td>\n",
       "    </tr>\n",
       "    <tr>\n",
       "      <th>96</th>\n",
       "      <td>2021</td>\n",
       "      <td>EN</td>\n",
       "      <td>PT</td>\n",
       "      <td>AI Scientist</td>\n",
       "      <td>12000</td>\n",
       "      <td>USD</td>\n",
       "      <td>12000</td>\n",
       "      <td>BR</td>\n",
       "      <td>100</td>\n",
       "      <td>US</td>\n",
       "      <td>S</td>\n",
       "    </tr>\n",
       "    <tr>\n",
       "      <th>99</th>\n",
       "      <td>2021</td>\n",
       "      <td>MI</td>\n",
       "      <td>FT</td>\n",
       "      <td>Computer Vision Software Engineer</td>\n",
       "      <td>81000</td>\n",
       "      <td>EUR</td>\n",
       "      <td>95746</td>\n",
       "      <td>DE</td>\n",
       "      <td>100</td>\n",
       "      <td>US</td>\n",
       "      <td>S</td>\n",
       "    </tr>\n",
       "    <tr>\n",
       "      <th>102</th>\n",
       "      <td>2021</td>\n",
       "      <td>MI</td>\n",
       "      <td>FT</td>\n",
       "      <td>BI Data Analyst</td>\n",
       "      <td>11000000</td>\n",
       "      <td>HUF</td>\n",
       "      <td>36259</td>\n",
       "      <td>HU</td>\n",
       "      <td>50</td>\n",
       "      <td>US</td>\n",
       "      <td>L</td>\n",
       "    </tr>\n",
       "    <tr>\n",
       "      <th>113</th>\n",
       "      <td>2021</td>\n",
       "      <td>EN</td>\n",
       "      <td>PT</td>\n",
       "      <td>AI Scientist</td>\n",
       "      <td>12000</td>\n",
       "      <td>USD</td>\n",
       "      <td>12000</td>\n",
       "      <td>PK</td>\n",
       "      <td>100</td>\n",
       "      <td>US</td>\n",
       "      <td>M</td>\n",
       "    </tr>\n",
       "    <tr>\n",
       "      <th>120</th>\n",
       "      <td>2021</td>\n",
       "      <td>MI</td>\n",
       "      <td>FT</td>\n",
       "      <td>Big Data Engineer</td>\n",
       "      <td>60000</td>\n",
       "      <td>USD</td>\n",
       "      <td>60000</td>\n",
       "      <td>ES</td>\n",
       "      <td>50</td>\n",
       "      <td>RO</td>\n",
       "      <td>M</td>\n",
       "    </tr>\n",
       "    <tr>\n",
       "      <th>132</th>\n",
       "      <td>2021</td>\n",
       "      <td>MI</td>\n",
       "      <td>FT</td>\n",
       "      <td>Applied Machine Learning Scientist</td>\n",
       "      <td>38400</td>\n",
       "      <td>USD</td>\n",
       "      <td>38400</td>\n",
       "      <td>VN</td>\n",
       "      <td>100</td>\n",
       "      <td>US</td>\n",
       "      <td>M</td>\n",
       "    </tr>\n",
       "    <tr>\n",
       "      <th>149</th>\n",
       "      <td>2021</td>\n",
       "      <td>SE</td>\n",
       "      <td>FT</td>\n",
       "      <td>Cloud Data Engineer</td>\n",
       "      <td>160000</td>\n",
       "      <td>USD</td>\n",
       "      <td>160000</td>\n",
       "      <td>BR</td>\n",
       "      <td>100</td>\n",
       "      <td>US</td>\n",
       "      <td>S</td>\n",
       "    </tr>\n",
       "    <tr>\n",
       "      <th>156</th>\n",
       "      <td>2021</td>\n",
       "      <td>MI</td>\n",
       "      <td>FT</td>\n",
       "      <td>Data Scientist</td>\n",
       "      <td>160000</td>\n",
       "      <td>SGD</td>\n",
       "      <td>119059</td>\n",
       "      <td>SG</td>\n",
       "      <td>100</td>\n",
       "      <td>IL</td>\n",
       "      <td>M</td>\n",
       "    </tr>\n",
       "    <tr>\n",
       "      <th>179</th>\n",
       "      <td>2021</td>\n",
       "      <td>MI</td>\n",
       "      <td>FT</td>\n",
       "      <td>Data Scientist</td>\n",
       "      <td>420000</td>\n",
       "      <td>INR</td>\n",
       "      <td>5679</td>\n",
       "      <td>IN</td>\n",
       "      <td>100</td>\n",
       "      <td>US</td>\n",
       "      <td>S</td>\n",
       "    </tr>\n",
       "    <tr>\n",
       "      <th>182</th>\n",
       "      <td>2021</td>\n",
       "      <td>MI</td>\n",
       "      <td>FT</td>\n",
       "      <td>Data Engineer</td>\n",
       "      <td>22000</td>\n",
       "      <td>EUR</td>\n",
       "      <td>26005</td>\n",
       "      <td>RO</td>\n",
       "      <td>0</td>\n",
       "      <td>US</td>\n",
       "      <td>L</td>\n",
       "    </tr>\n",
       "    <tr>\n",
       "      <th>186</th>\n",
       "      <td>2021</td>\n",
       "      <td>SE</td>\n",
       "      <td>FT</td>\n",
       "      <td>Data Analytics Engineer</td>\n",
       "      <td>50000</td>\n",
       "      <td>USD</td>\n",
       "      <td>50000</td>\n",
       "      <td>VN</td>\n",
       "      <td>100</td>\n",
       "      <td>GB</td>\n",
       "      <td>M</td>\n",
       "    </tr>\n",
       "    <tr>\n",
       "      <th>187</th>\n",
       "      <td>2021</td>\n",
       "      <td>EX</td>\n",
       "      <td>FT</td>\n",
       "      <td>Data Science Consultant</td>\n",
       "      <td>59000</td>\n",
       "      <td>EUR</td>\n",
       "      <td>69741</td>\n",
       "      <td>FR</td>\n",
       "      <td>100</td>\n",
       "      <td>ES</td>\n",
       "      <td>S</td>\n",
       "    </tr>\n",
       "    <tr>\n",
       "      <th>188</th>\n",
       "      <td>2021</td>\n",
       "      <td>SE</td>\n",
       "      <td>FT</td>\n",
       "      <td>Data Engineer</td>\n",
       "      <td>65000</td>\n",
       "      <td>EUR</td>\n",
       "      <td>76833</td>\n",
       "      <td>RO</td>\n",
       "      <td>50</td>\n",
       "      <td>GB</td>\n",
       "      <td>S</td>\n",
       "    </tr>\n",
       "    <tr>\n",
       "      <th>190</th>\n",
       "      <td>2021</td>\n",
       "      <td>SE</td>\n",
       "      <td>FT</td>\n",
       "      <td>Data Science Manager</td>\n",
       "      <td>152000</td>\n",
       "      <td>USD</td>\n",
       "      <td>152000</td>\n",
       "      <td>US</td>\n",
       "      <td>100</td>\n",
       "      <td>FR</td>\n",
       "      <td>L</td>\n",
       "    </tr>\n",
       "    <tr>\n",
       "      <th>198</th>\n",
       "      <td>2021</td>\n",
       "      <td>SE</td>\n",
       "      <td>FT</td>\n",
       "      <td>Data Science Manager</td>\n",
       "      <td>4000000</td>\n",
       "      <td>INR</td>\n",
       "      <td>54094</td>\n",
       "      <td>IN</td>\n",
       "      <td>50</td>\n",
       "      <td>US</td>\n",
       "      <td>L</td>\n",
       "    </tr>\n",
       "    <tr>\n",
       "      <th>200</th>\n",
       "      <td>2021</td>\n",
       "      <td>MI</td>\n",
       "      <td>FT</td>\n",
       "      <td>Data Scientist</td>\n",
       "      <td>52000</td>\n",
       "      <td>EUR</td>\n",
       "      <td>61467</td>\n",
       "      <td>DE</td>\n",
       "      <td>50</td>\n",
       "      <td>AT</td>\n",
       "      <td>M</td>\n",
       "    </tr>\n",
       "    <tr>\n",
       "      <th>203</th>\n",
       "      <td>2021</td>\n",
       "      <td>SE</td>\n",
       "      <td>FT</td>\n",
       "      <td>Research Scientist</td>\n",
       "      <td>50000</td>\n",
       "      <td>USD</td>\n",
       "      <td>50000</td>\n",
       "      <td>FR</td>\n",
       "      <td>100</td>\n",
       "      <td>US</td>\n",
       "      <td>S</td>\n",
       "    </tr>\n",
       "    <tr>\n",
       "      <th>208</th>\n",
       "      <td>2021</td>\n",
       "      <td>MI</td>\n",
       "      <td>FL</td>\n",
       "      <td>Data Engineer</td>\n",
       "      <td>20000</td>\n",
       "      <td>USD</td>\n",
       "      <td>20000</td>\n",
       "      <td>IT</td>\n",
       "      <td>0</td>\n",
       "      <td>US</td>\n",
       "      <td>L</td>\n",
       "    </tr>\n",
       "    <tr>\n",
       "      <th>212</th>\n",
       "      <td>2021</td>\n",
       "      <td>MI</td>\n",
       "      <td>FT</td>\n",
       "      <td>Data Engineer</td>\n",
       "      <td>48000</td>\n",
       "      <td>GBP</td>\n",
       "      <td>66022</td>\n",
       "      <td>HK</td>\n",
       "      <td>50</td>\n",
       "      <td>GB</td>\n",
       "      <td>S</td>\n",
       "    </tr>\n",
       "    <tr>\n",
       "      <th>213</th>\n",
       "      <td>2021</td>\n",
       "      <td>EN</td>\n",
       "      <td>FT</td>\n",
       "      <td>Big Data Engineer</td>\n",
       "      <td>435000</td>\n",
       "      <td>INR</td>\n",
       "      <td>5882</td>\n",
       "      <td>IN</td>\n",
       "      <td>0</td>\n",
       "      <td>CH</td>\n",
       "      <td>L</td>\n",
       "    </tr>\n",
       "    <tr>\n",
       "      <th>224</th>\n",
       "      <td>2021</td>\n",
       "      <td>SE</td>\n",
       "      <td>FT</td>\n",
       "      <td>Machine Learning Scientist</td>\n",
       "      <td>225000</td>\n",
       "      <td>USD</td>\n",
       "      <td>225000</td>\n",
       "      <td>US</td>\n",
       "      <td>100</td>\n",
       "      <td>CA</td>\n",
       "      <td>L</td>\n",
       "    </tr>\n",
       "    <tr>\n",
       "      <th>244</th>\n",
       "      <td>2021</td>\n",
       "      <td>EN</td>\n",
       "      <td>FT</td>\n",
       "      <td>AI Scientist</td>\n",
       "      <td>1335000</td>\n",
       "      <td>INR</td>\n",
       "      <td>18053</td>\n",
       "      <td>IN</td>\n",
       "      <td>100</td>\n",
       "      <td>AS</td>\n",
       "      <td>S</td>\n",
       "    </tr>\n",
       "    <tr>\n",
       "      <th>264</th>\n",
       "      <td>2021</td>\n",
       "      <td>MI</td>\n",
       "      <td>FT</td>\n",
       "      <td>Data Scientist</td>\n",
       "      <td>21600</td>\n",
       "      <td>EUR</td>\n",
       "      <td>25532</td>\n",
       "      <td>RS</td>\n",
       "      <td>100</td>\n",
       "      <td>DE</td>\n",
       "      <td>S</td>\n",
       "    </tr>\n",
       "    <tr>\n",
       "      <th>265</th>\n",
       "      <td>2021</td>\n",
       "      <td>SE</td>\n",
       "      <td>FT</td>\n",
       "      <td>Lead Data Engineer</td>\n",
       "      <td>160000</td>\n",
       "      <td>USD</td>\n",
       "      <td>160000</td>\n",
       "      <td>PR</td>\n",
       "      <td>50</td>\n",
       "      <td>US</td>\n",
       "      <td>S</td>\n",
       "    </tr>\n",
       "    <tr>\n",
       "      <th>273</th>\n",
       "      <td>2021</td>\n",
       "      <td>EN</td>\n",
       "      <td>FT</td>\n",
       "      <td>Machine Learning Engineer</td>\n",
       "      <td>85000</td>\n",
       "      <td>USD</td>\n",
       "      <td>85000</td>\n",
       "      <td>NL</td>\n",
       "      <td>100</td>\n",
       "      <td>DE</td>\n",
       "      <td>S</td>\n",
       "    </tr>\n",
       "    <tr>\n",
       "      <th>281</th>\n",
       "      <td>2021</td>\n",
       "      <td>EN</td>\n",
       "      <td>FT</td>\n",
       "      <td>Research Scientist</td>\n",
       "      <td>100000</td>\n",
       "      <td>USD</td>\n",
       "      <td>100000</td>\n",
       "      <td>JE</td>\n",
       "      <td>0</td>\n",
       "      <td>CN</td>\n",
       "      <td>L</td>\n",
       "    </tr>\n",
       "    <tr>\n",
       "      <th>396</th>\n",
       "      <td>2022</td>\n",
       "      <td>MI</td>\n",
       "      <td>FT</td>\n",
       "      <td>Machine Learning Engineer</td>\n",
       "      <td>80000</td>\n",
       "      <td>EUR</td>\n",
       "      <td>87932</td>\n",
       "      <td>FR</td>\n",
       "      <td>100</td>\n",
       "      <td>DE</td>\n",
       "      <td>M</td>\n",
       "    </tr>\n",
       "    <tr>\n",
       "      <th>417</th>\n",
       "      <td>2022</td>\n",
       "      <td>SE</td>\n",
       "      <td>FT</td>\n",
       "      <td>Data Science Engineer</td>\n",
       "      <td>60000</td>\n",
       "      <td>USD</td>\n",
       "      <td>60000</td>\n",
       "      <td>AR</td>\n",
       "      <td>100</td>\n",
       "      <td>MX</td>\n",
       "      <td>L</td>\n",
       "    </tr>\n",
       "    <tr>\n",
       "      <th>488</th>\n",
       "      <td>2022</td>\n",
       "      <td>MI</td>\n",
       "      <td>FL</td>\n",
       "      <td>Data Scientist</td>\n",
       "      <td>100000</td>\n",
       "      <td>USD</td>\n",
       "      <td>100000</td>\n",
       "      <td>CA</td>\n",
       "      <td>100</td>\n",
       "      <td>US</td>\n",
       "      <td>M</td>\n",
       "    </tr>\n",
       "    <tr>\n",
       "      <th>489</th>\n",
       "      <td>2022</td>\n",
       "      <td>EN</td>\n",
       "      <td>CT</td>\n",
       "      <td>Applied Machine Learning Scientist</td>\n",
       "      <td>29000</td>\n",
       "      <td>EUR</td>\n",
       "      <td>31875</td>\n",
       "      <td>TN</td>\n",
       "      <td>100</td>\n",
       "      <td>CZ</td>\n",
       "      <td>M</td>\n",
       "    </tr>\n",
       "    <tr>\n",
       "      <th>490</th>\n",
       "      <td>2022</td>\n",
       "      <td>SE</td>\n",
       "      <td>FT</td>\n",
       "      <td>Head of Data</td>\n",
       "      <td>200000</td>\n",
       "      <td>USD</td>\n",
       "      <td>200000</td>\n",
       "      <td>MY</td>\n",
       "      <td>100</td>\n",
       "      <td>US</td>\n",
       "      <td>M</td>\n",
       "    </tr>\n",
       "    <tr>\n",
       "      <th>494</th>\n",
       "      <td>2022</td>\n",
       "      <td>SE</td>\n",
       "      <td>FT</td>\n",
       "      <td>Data Scientist</td>\n",
       "      <td>100000</td>\n",
       "      <td>USD</td>\n",
       "      <td>100000</td>\n",
       "      <td>BR</td>\n",
       "      <td>100</td>\n",
       "      <td>US</td>\n",
       "      <td>M</td>\n",
       "    </tr>\n",
       "    <tr>\n",
       "      <th>496</th>\n",
       "      <td>2022</td>\n",
       "      <td>EN</td>\n",
       "      <td>FT</td>\n",
       "      <td>Data Engineer</td>\n",
       "      <td>52800</td>\n",
       "      <td>EUR</td>\n",
       "      <td>58035</td>\n",
       "      <td>PK</td>\n",
       "      <td>100</td>\n",
       "      <td>DE</td>\n",
       "      <td>M</td>\n",
       "    </tr>\n",
       "    <tr>\n",
       "      <th>502</th>\n",
       "      <td>2022</td>\n",
       "      <td>EN</td>\n",
       "      <td>FT</td>\n",
       "      <td>Data Scientist</td>\n",
       "      <td>40000</td>\n",
       "      <td>USD</td>\n",
       "      <td>40000</td>\n",
       "      <td>JP</td>\n",
       "      <td>100</td>\n",
       "      <td>MY</td>\n",
       "      <td>L</td>\n",
       "    </tr>\n",
       "    <tr>\n",
       "      <th>506</th>\n",
       "      <td>2022</td>\n",
       "      <td>MI</td>\n",
       "      <td>FT</td>\n",
       "      <td>Applied Machine Learning Scientist</td>\n",
       "      <td>75000</td>\n",
       "      <td>USD</td>\n",
       "      <td>75000</td>\n",
       "      <td>BO</td>\n",
       "      <td>100</td>\n",
       "      <td>US</td>\n",
       "      <td>L</td>\n",
       "    </tr>\n",
       "    <tr>\n",
       "      <th>515</th>\n",
       "      <td>2022</td>\n",
       "      <td>MI</td>\n",
       "      <td>FT</td>\n",
       "      <td>Data Scientist</td>\n",
       "      <td>48000</td>\n",
       "      <td>USD</td>\n",
       "      <td>48000</td>\n",
       "      <td>RU</td>\n",
       "      <td>100</td>\n",
       "      <td>US</td>\n",
       "      <td>S</td>\n",
       "    </tr>\n",
       "    <tr>\n",
       "      <th>521</th>\n",
       "      <td>2022</td>\n",
       "      <td>EN</td>\n",
       "      <td>FT</td>\n",
       "      <td>Computer Vision Engineer</td>\n",
       "      <td>10000</td>\n",
       "      <td>USD</td>\n",
       "      <td>10000</td>\n",
       "      <td>PT</td>\n",
       "      <td>100</td>\n",
       "      <td>LU</td>\n",
       "      <td>M</td>\n",
       "    </tr>\n",
       "    <tr>\n",
       "      <th>606</th>\n",
       "      <td>2022</td>\n",
       "      <td>MI</td>\n",
       "      <td>FT</td>\n",
       "      <td>AI Scientist</td>\n",
       "      <td>200000</td>\n",
       "      <td>USD</td>\n",
       "      <td>200000</td>\n",
       "      <td>IN</td>\n",
       "      <td>100</td>\n",
       "      <td>US</td>\n",
       "      <td>L</td>\n",
       "    </tr>\n",
       "  </tbody>\n",
       "</table>\n",
       "</div>"
      ],
      "text/plain": [
       "     work_year experience_level employment_type  \\\n",
       "17        2020               SE              FT   \n",
       "19        2020               MI              FT   \n",
       "32        2020               SE              FT   \n",
       "40        2020               MI              FT   \n",
       "53        2020               EN              FT   \n",
       "54        2020               SE              FL   \n",
       "61        2020               MI              FT   \n",
       "70        2020               MI              FT   \n",
       "73        2021               EX              FT   \n",
       "82        2021               MI              FT   \n",
       "84        2021               EX              FT   \n",
       "89        2021               SE              FT   \n",
       "90        2021               SE              FT   \n",
       "96        2021               EN              PT   \n",
       "99        2021               MI              FT   \n",
       "102       2021               MI              FT   \n",
       "113       2021               EN              PT   \n",
       "120       2021               MI              FT   \n",
       "132       2021               MI              FT   \n",
       "149       2021               SE              FT   \n",
       "156       2021               MI              FT   \n",
       "179       2021               MI              FT   \n",
       "182       2021               MI              FT   \n",
       "186       2021               SE              FT   \n",
       "187       2021               EX              FT   \n",
       "188       2021               SE              FT   \n",
       "190       2021               SE              FT   \n",
       "198       2021               SE              FT   \n",
       "200       2021               MI              FT   \n",
       "203       2021               SE              FT   \n",
       "208       2021               MI              FL   \n",
       "212       2021               MI              FT   \n",
       "213       2021               EN              FT   \n",
       "224       2021               SE              FT   \n",
       "244       2021               EN              FT   \n",
       "264       2021               MI              FT   \n",
       "265       2021               SE              FT   \n",
       "273       2021               EN              FT   \n",
       "281       2021               EN              FT   \n",
       "396       2022               MI              FT   \n",
       "417       2022               SE              FT   \n",
       "488       2022               MI              FL   \n",
       "489       2022               EN              CT   \n",
       "490       2022               SE              FT   \n",
       "494       2022               SE              FT   \n",
       "496       2022               EN              FT   \n",
       "502       2022               EN              FT   \n",
       "506       2022               MI              FT   \n",
       "515       2022               MI              FT   \n",
       "521       2022               EN              FT   \n",
       "606       2022               MI              FT   \n",
       "\n",
       "                              job_title    salary salary_currency  \\\n",
       "17                    Big Data Engineer    100000             EUR   \n",
       "19                   Lead Data Engineer     56000             USD   \n",
       "32                       Data Scientist     60000             EUR   \n",
       "40                       Data Scientist     45760             USD   \n",
       "53                        Data Engineer     48000             EUR   \n",
       "54             Computer Vision Engineer     60000             USD   \n",
       "61                        Data Engineer    130800             USD   \n",
       "70                       Data Scientist     55000             EUR   \n",
       "73                      BI Data Analyst    150000             USD   \n",
       "82               Applied Data Scientist     68000             CAD   \n",
       "84             Director of Data Science    130000             EUR   \n",
       "89                         Data Analyst     80000             USD   \n",
       "90               Marketing Data Analyst     75000             EUR   \n",
       "96                         AI Scientist     12000             USD   \n",
       "99    Computer Vision Software Engineer     81000             EUR   \n",
       "102                     BI Data Analyst  11000000             HUF   \n",
       "113                        AI Scientist     12000             USD   \n",
       "120                   Big Data Engineer     60000             USD   \n",
       "132  Applied Machine Learning Scientist     38400             USD   \n",
       "149                 Cloud Data Engineer    160000             USD   \n",
       "156                      Data Scientist    160000             SGD   \n",
       "179                      Data Scientist    420000             INR   \n",
       "182                       Data Engineer     22000             EUR   \n",
       "186             Data Analytics Engineer     50000             USD   \n",
       "187             Data Science Consultant     59000             EUR   \n",
       "188                       Data Engineer     65000             EUR   \n",
       "190                Data Science Manager    152000             USD   \n",
       "198                Data Science Manager   4000000             INR   \n",
       "200                      Data Scientist     52000             EUR   \n",
       "203                  Research Scientist     50000             USD   \n",
       "208                       Data Engineer     20000             USD   \n",
       "212                       Data Engineer     48000             GBP   \n",
       "213                   Big Data Engineer    435000             INR   \n",
       "224          Machine Learning Scientist    225000             USD   \n",
       "244                        AI Scientist   1335000             INR   \n",
       "264                      Data Scientist     21600             EUR   \n",
       "265                  Lead Data Engineer    160000             USD   \n",
       "273           Machine Learning Engineer     85000             USD   \n",
       "281                  Research Scientist    100000             USD   \n",
       "396           Machine Learning Engineer     80000             EUR   \n",
       "417               Data Science Engineer     60000             USD   \n",
       "488                      Data Scientist    100000             USD   \n",
       "489  Applied Machine Learning Scientist     29000             EUR   \n",
       "490                        Head of Data    200000             USD   \n",
       "494                      Data Scientist    100000             USD   \n",
       "496                       Data Engineer     52800             EUR   \n",
       "502                      Data Scientist     40000             USD   \n",
       "506  Applied Machine Learning Scientist     75000             USD   \n",
       "515                      Data Scientist     48000             USD   \n",
       "521            Computer Vision Engineer     10000             USD   \n",
       "606                        AI Scientist    200000             USD   \n",
       "\n",
       "     salary_in_usd employee_residence  remote_ratio company_location  \\\n",
       "17          114047                 PL           100               GB   \n",
       "19           56000                 PT           100               US   \n",
       "32           68428                 GR           100               US   \n",
       "40           45760                 PH           100               US   \n",
       "53           54742                 PK           100               DE   \n",
       "54           60000                 RU           100               US   \n",
       "61          130800                 ES           100               US   \n",
       "70           62726                 FR            50               LU   \n",
       "73          150000                 IN           100               US   \n",
       "82           54238                 GB            50               CA   \n",
       "84          153667                 IT           100               PL   \n",
       "89           80000                 BG           100               US   \n",
       "90           88654                 GR           100               DK   \n",
       "96           12000                 BR           100               US   \n",
       "99           95746                 DE           100               US   \n",
       "102          36259                 HU            50               US   \n",
       "113          12000                 PK           100               US   \n",
       "120          60000                 ES            50               RO   \n",
       "132          38400                 VN           100               US   \n",
       "149         160000                 BR           100               US   \n",
       "156         119059                 SG           100               IL   \n",
       "179           5679                 IN           100               US   \n",
       "182          26005                 RO             0               US   \n",
       "186          50000                 VN           100               GB   \n",
       "187          69741                 FR           100               ES   \n",
       "188          76833                 RO            50               GB   \n",
       "190         152000                 US           100               FR   \n",
       "198          54094                 IN            50               US   \n",
       "200          61467                 DE            50               AT   \n",
       "203          50000                 FR           100               US   \n",
       "208          20000                 IT             0               US   \n",
       "212          66022                 HK            50               GB   \n",
       "213           5882                 IN             0               CH   \n",
       "224         225000                 US           100               CA   \n",
       "244          18053                 IN           100               AS   \n",
       "264          25532                 RS           100               DE   \n",
       "265         160000                 PR            50               US   \n",
       "273          85000                 NL           100               DE   \n",
       "281         100000                 JE             0               CN   \n",
       "396          87932                 FR           100               DE   \n",
       "417          60000                 AR           100               MX   \n",
       "488         100000                 CA           100               US   \n",
       "489          31875                 TN           100               CZ   \n",
       "490         200000                 MY           100               US   \n",
       "494         100000                 BR           100               US   \n",
       "496          58035                 PK           100               DE   \n",
       "502          40000                 JP           100               MY   \n",
       "506          75000                 BO           100               US   \n",
       "515          48000                 RU           100               US   \n",
       "521          10000                 PT           100               LU   \n",
       "606         200000                 IN           100               US   \n",
       "\n",
       "    company_size  \n",
       "17             S  \n",
       "19             M  \n",
       "32             L  \n",
       "40             S  \n",
       "53             L  \n",
       "54             S  \n",
       "61             M  \n",
       "70             S  \n",
       "73             L  \n",
       "82             L  \n",
       "84             L  \n",
       "89             S  \n",
       "90             L  \n",
       "96             S  \n",
       "99             S  \n",
       "102            L  \n",
       "113            M  \n",
       "120            M  \n",
       "132            M  \n",
       "149            S  \n",
       "156            M  \n",
       "179            S  \n",
       "182            L  \n",
       "186            M  \n",
       "187            S  \n",
       "188            S  \n",
       "190            L  \n",
       "198            L  \n",
       "200            M  \n",
       "203            S  \n",
       "208            L  \n",
       "212            S  \n",
       "213            L  \n",
       "224            L  \n",
       "244            S  \n",
       "264            S  \n",
       "265            S  \n",
       "273            S  \n",
       "281            L  \n",
       "396            M  \n",
       "417            L  \n",
       "488            M  \n",
       "489            M  \n",
       "490            M  \n",
       "494            M  \n",
       "496            M  \n",
       "502            L  \n",
       "506            L  \n",
       "515            S  \n",
       "521            M  \n",
       "606            L  "
      ]
     },
     "execution_count": 53,
     "metadata": {},
     "output_type": "execute_result"
    }
   ],
   "source": [
    "df[df.company_location != df.employee_residence]"
   ]
  },
  {
   "cell_type": "code",
   "execution_count": null,
   "id": "e48c3088",
   "metadata": {},
   "outputs": [],
   "source": [
    "len(df)"
   ]
  },
  {
   "cell_type": "code",
   "execution_count": null,
   "id": "af47b3b4",
   "metadata": {},
   "outputs": [],
   "source": [
    "df.salary_in_usd.hist()"
   ]
  },
  {
   "cell_type": "code",
   "execution_count": null,
   "id": "bdcfd7e3",
   "metadata": {},
   "outputs": [],
   "source": [
    "df.boxplot(column='salary_in_usd')"
   ]
  },
  {
   "cell_type": "code",
   "execution_count": null,
   "id": "72e0fcd4",
   "metadata": {},
   "outputs": [],
   "source": [
    "df.company_location.value_counts()"
   ]
  },
  {
   "cell_type": "code",
   "execution_count": null,
   "id": "6eccf3cd",
   "metadata": {},
   "outputs": [],
   "source": [
    "len(df[df.company_location != df.employee_residence])"
   ]
  },
  {
   "cell_type": "code",
   "execution_count": null,
   "id": "8510e8d8",
   "metadata": {},
   "outputs": [],
   "source": [
    "df[df['remote_ratio'] >50 ].salary_in_usd.describe()"
   ]
  },
  {
   "cell_type": "code",
   "execution_count": null,
   "id": "b8eefdb0",
   "metadata": {},
   "outputs": [],
   "source": [
    "df[df['remote_ratio'] <=50 ].salary_in_usd.describe()"
   ]
  },
  {
   "cell_type": "markdown",
   "id": "ff087924",
   "metadata": {},
   "source": [
    "<h1>Data prep</h1>\n",
    "Now we will prepare the data to be fed into the machine learning models.\n",
    "\n",
    "Exercise: are there any columns that should be excluded?"
   ]
  },
  {
   "cell_type": "code",
   "execution_count": null,
   "id": "ed1c0aa3",
   "metadata": {},
   "outputs": [],
   "source": [
    "df.work_year.value_counts()"
   ]
  },
  {
   "cell_type": "code",
   "execution_count": null,
   "id": "1cc4cbd3",
   "metadata": {},
   "outputs": [],
   "source": [
    "df.employment_type.value_counts()"
   ]
  },
  {
   "cell_type": "code",
   "execution_count": null,
   "id": "3b7aa3d8",
   "metadata": {},
   "outputs": [],
   "source": [
    "df.columns"
   ]
  },
  {
   "cell_type": "code",
   "execution_count": 54,
   "id": "377cc6ae",
   "metadata": {},
   "outputs": [],
   "source": [
    "df = df.drop(['salary','salary_currency'],axis=1)"
   ]
  },
  {
   "cell_type": "markdown",
   "id": "c6459dde",
   "metadata": {},
   "source": [
    "Exercise: is there any missing data that needs to be dealt with? (if so, do it!)"
   ]
  },
  {
   "cell_type": "code",
   "execution_count": null,
   "id": "9eea6a31",
   "metadata": {},
   "outputs": [],
   "source": []
  },
  {
   "cell_type": "code",
   "execution_count": null,
   "id": "9dc9f984",
   "metadata": {},
   "outputs": [],
   "source": []
  },
  {
   "cell_type": "code",
   "execution_count": null,
   "id": "4255ad19",
   "metadata": {},
   "outputs": [],
   "source": []
  },
  {
   "cell_type": "code",
   "execution_count": null,
   "id": "a82f369b",
   "metadata": {},
   "outputs": [],
   "source": [
    "print('no.')"
   ]
  },
  {
   "cell_type": "code",
   "execution_count": 55,
   "id": "4b5301f1",
   "metadata": {},
   "outputs": [
    {
     "data": {
      "text/plain": [
       "array(['Data Scientist', 'Machine Learning Scientist',\n",
       "       'Big Data Engineer', 'Product Data Analyst',\n",
       "       'Machine Learning Engineer', 'Data Analyst', 'Lead Data Scientist',\n",
       "       'Business Data Analyst', 'Lead Data Engineer', 'Lead Data Analyst',\n",
       "       'Data Engineer', 'Data Science Consultant', 'BI Data Analyst',\n",
       "       'Director of Data Science', 'Research Scientist',\n",
       "       'Machine Learning Manager', 'Data Engineering Manager',\n",
       "       'Machine Learning Infrastructure Engineer', 'ML Engineer',\n",
       "       'AI Scientist', 'Computer Vision Engineer',\n",
       "       'Principal Data Scientist', 'Data Science Manager', 'Head of Data',\n",
       "       '3D Computer Vision Researcher', 'Data Analytics Engineer',\n",
       "       'Applied Data Scientist', 'Marketing Data Analyst',\n",
       "       'Cloud Data Engineer', 'Financial Data Analyst',\n",
       "       'Computer Vision Software Engineer',\n",
       "       'Director of Data Engineering', 'Data Science Engineer',\n",
       "       'Principal Data Engineer', 'Machine Learning Developer',\n",
       "       'Applied Machine Learning Scientist', 'Data Analytics Manager',\n",
       "       'Head of Data Science', 'Data Specialist', 'Data Architect',\n",
       "       'Finance Data Analyst', 'Principal Data Analyst',\n",
       "       'Big Data Architect', 'Staff Data Scientist', 'Analytics Engineer',\n",
       "       'ETL Developer', 'Head of Machine Learning', 'NLP Engineer',\n",
       "       'Lead Machine Learning Engineer', 'Data Analytics Lead'],\n",
       "      dtype=object)"
      ]
     },
     "execution_count": 55,
     "metadata": {},
     "output_type": "execute_result"
    }
   ],
   "source": [
    "df.job_title.unique()"
   ]
  },
  {
   "cell_type": "markdown",
   "id": "231c05dd",
   "metadata": {},
   "source": [
    "Exercise: find what columns should be encoded and encode them."
   ]
  },
  {
   "cell_type": "code",
   "execution_count": null,
   "id": "e801d9cd",
   "metadata": {},
   "outputs": [],
   "source": []
  },
  {
   "cell_type": "code",
   "execution_count": null,
   "id": "fbf20de9",
   "metadata": {},
   "outputs": [],
   "source": []
  },
  {
   "cell_type": "code",
   "execution_count": null,
   "id": "2118a00e",
   "metadata": {},
   "outputs": [],
   "source": []
  },
  {
   "cell_type": "code",
   "execution_count": null,
   "id": "16406c05",
   "metadata": {},
   "outputs": [],
   "source": []
  },
  {
   "cell_type": "code",
   "execution_count": 57,
   "id": "113b5b43",
   "metadata": {},
   "outputs": [],
   "source": [
    "# Hint, use:\n",
    "from sklearn.preprocessing import LabelEncoder"
   ]
  },
  {
   "cell_type": "code",
   "execution_count": 58,
   "id": "4fe7af3e",
   "metadata": {},
   "outputs": [],
   "source": [
    "le = LabelEncoder()"
   ]
  },
  {
   "cell_type": "code",
   "execution_count": 56,
   "id": "949d73cb",
   "metadata": {},
   "outputs": [
    {
     "name": "stdout",
     "output_type": "stream",
     "text": [
      "the value of x is: work_year\n",
      "the value of x is: experience_level\n",
      "the value of x is: employment_type\n",
      "the value of x is: job_title\n",
      "the value of x is: salary_in_usd\n",
      "the value of x is: employee_residence\n",
      "the value of x is: remote_ratio\n",
      "the value of x is: company_location\n",
      "the value of x is: company_size\n"
     ]
    }
   ],
   "source": [
    "for x in df.keys():\n",
    "    print(f'the value of x is: {x}')"
   ]
  },
  {
   "cell_type": "code",
   "execution_count": 59,
   "id": "c220a3c7",
   "metadata": {},
   "outputs": [
    {
     "data": {
      "text/html": [
       "<div>\n",
       "<style scoped>\n",
       "    .dataframe tbody tr th:only-of-type {\n",
       "        vertical-align: middle;\n",
       "    }\n",
       "\n",
       "    .dataframe tbody tr th {\n",
       "        vertical-align: top;\n",
       "    }\n",
       "\n",
       "    .dataframe thead th {\n",
       "        text-align: right;\n",
       "    }\n",
       "</style>\n",
       "<table border=\"1\" class=\"dataframe\">\n",
       "  <thead>\n",
       "    <tr style=\"text-align: right;\">\n",
       "      <th></th>\n",
       "      <th>work_year</th>\n",
       "      <th>experience_level</th>\n",
       "      <th>employment_type</th>\n",
       "      <th>job_title</th>\n",
       "      <th>salary_in_usd</th>\n",
       "      <th>employee_residence</th>\n",
       "      <th>remote_ratio</th>\n",
       "      <th>company_location</th>\n",
       "      <th>company_size</th>\n",
       "    </tr>\n",
       "  </thead>\n",
       "  <tbody>\n",
       "    <tr>\n",
       "      <th>0</th>\n",
       "      <td>2020</td>\n",
       "      <td>MI</td>\n",
       "      <td>FT</td>\n",
       "      <td>Data Scientist</td>\n",
       "      <td>79833</td>\n",
       "      <td>DE</td>\n",
       "      <td>0</td>\n",
       "      <td>DE</td>\n",
       "      <td>L</td>\n",
       "    </tr>\n",
       "    <tr>\n",
       "      <th>1</th>\n",
       "      <td>2020</td>\n",
       "      <td>SE</td>\n",
       "      <td>FT</td>\n",
       "      <td>Machine Learning Scientist</td>\n",
       "      <td>260000</td>\n",
       "      <td>JP</td>\n",
       "      <td>0</td>\n",
       "      <td>JP</td>\n",
       "      <td>S</td>\n",
       "    </tr>\n",
       "    <tr>\n",
       "      <th>2</th>\n",
       "      <td>2020</td>\n",
       "      <td>SE</td>\n",
       "      <td>FT</td>\n",
       "      <td>Big Data Engineer</td>\n",
       "      <td>109024</td>\n",
       "      <td>GB</td>\n",
       "      <td>50</td>\n",
       "      <td>GB</td>\n",
       "      <td>M</td>\n",
       "    </tr>\n",
       "    <tr>\n",
       "      <th>3</th>\n",
       "      <td>2020</td>\n",
       "      <td>MI</td>\n",
       "      <td>FT</td>\n",
       "      <td>Product Data Analyst</td>\n",
       "      <td>20000</td>\n",
       "      <td>HN</td>\n",
       "      <td>0</td>\n",
       "      <td>HN</td>\n",
       "      <td>S</td>\n",
       "    </tr>\n",
       "    <tr>\n",
       "      <th>4</th>\n",
       "      <td>2020</td>\n",
       "      <td>SE</td>\n",
       "      <td>FT</td>\n",
       "      <td>Machine Learning Engineer</td>\n",
       "      <td>150000</td>\n",
       "      <td>US</td>\n",
       "      <td>50</td>\n",
       "      <td>US</td>\n",
       "      <td>L</td>\n",
       "    </tr>\n",
       "  </tbody>\n",
       "</table>\n",
       "</div>"
      ],
      "text/plain": [
       "   work_year experience_level employment_type                   job_title  \\\n",
       "0       2020               MI              FT              Data Scientist   \n",
       "1       2020               SE              FT  Machine Learning Scientist   \n",
       "2       2020               SE              FT           Big Data Engineer   \n",
       "3       2020               MI              FT        Product Data Analyst   \n",
       "4       2020               SE              FT   Machine Learning Engineer   \n",
       "\n",
       "   salary_in_usd employee_residence  remote_ratio company_location  \\\n",
       "0          79833                 DE             0               DE   \n",
       "1         260000                 JP             0               JP   \n",
       "2         109024                 GB            50               GB   \n",
       "3          20000                 HN             0               HN   \n",
       "4         150000                 US            50               US   \n",
       "\n",
       "  company_size  \n",
       "0            L  \n",
       "1            S  \n",
       "2            M  \n",
       "3            S  \n",
       "4            L  "
      ]
     },
     "execution_count": 59,
     "metadata": {},
     "output_type": "execute_result"
    }
   ],
   "source": [
    "df.head()"
   ]
  },
  {
   "cell_type": "code",
   "execution_count": 60,
   "id": "3666d136",
   "metadata": {},
   "outputs": [
    {
     "name": "stdout",
     "output_type": "stream",
     "text": [
      "SKIIIIIP\n",
      "SKIIIIIP\n",
      "SKIIIIIP\n"
     ]
    }
   ],
   "source": [
    "for x in df.keys():\n",
    "    if x in ['salary_in_usd', 'remote_ratio', 'work_year']:\n",
    "        print(\"SKIIIIIP\")\n",
    "    else:\n",
    "        df[f'{x}_enc'] = le.fit_transform(df[x])"
   ]
  },
  {
   "cell_type": "code",
   "execution_count": 61,
   "id": "8499de5b",
   "metadata": {},
   "outputs": [
    {
     "name": "stdout",
     "output_type": "stream",
     "text": [
      "SKIIIIIP\n"
     ]
    }
   ],
   "source": [
    "for x in df.keys():\n",
    "    if x == 'salary_in_usd':\n",
    "        print(\"SKIIIIIP\")\n",
    "    else:\n",
    "        df[f'{x}_enc'] = le.fit_transform(df[x])"
   ]
  },
  {
   "cell_type": "code",
   "execution_count": 62,
   "id": "9ea4218f",
   "metadata": {},
   "outputs": [
    {
     "data": {
      "text/html": [
       "<div>\n",
       "<style scoped>\n",
       "    .dataframe tbody tr th:only-of-type {\n",
       "        vertical-align: middle;\n",
       "    }\n",
       "\n",
       "    .dataframe tbody tr th {\n",
       "        vertical-align: top;\n",
       "    }\n",
       "\n",
       "    .dataframe thead th {\n",
       "        text-align: right;\n",
       "    }\n",
       "</style>\n",
       "<table border=\"1\" class=\"dataframe\">\n",
       "  <thead>\n",
       "    <tr style=\"text-align: right;\">\n",
       "      <th></th>\n",
       "      <th>work_year</th>\n",
       "      <th>experience_level</th>\n",
       "      <th>employment_type</th>\n",
       "      <th>job_title</th>\n",
       "      <th>salary_in_usd</th>\n",
       "      <th>employee_residence</th>\n",
       "      <th>remote_ratio</th>\n",
       "      <th>company_location</th>\n",
       "      <th>company_size</th>\n",
       "      <th>experience_level_enc</th>\n",
       "      <th>...</th>\n",
       "      <th>company_location_enc</th>\n",
       "      <th>company_size_enc</th>\n",
       "      <th>work_year_enc</th>\n",
       "      <th>remote_ratio_enc</th>\n",
       "      <th>experience_level_enc_enc</th>\n",
       "      <th>employment_type_enc_enc</th>\n",
       "      <th>job_title_enc_enc</th>\n",
       "      <th>employee_residence_enc_enc</th>\n",
       "      <th>company_location_enc_enc</th>\n",
       "      <th>company_size_enc_enc</th>\n",
       "    </tr>\n",
       "  </thead>\n",
       "  <tbody>\n",
       "    <tr>\n",
       "      <th>0</th>\n",
       "      <td>2020</td>\n",
       "      <td>MI</td>\n",
       "      <td>FT</td>\n",
       "      <td>Data Scientist</td>\n",
       "      <td>79833</td>\n",
       "      <td>DE</td>\n",
       "      <td>0</td>\n",
       "      <td>DE</td>\n",
       "      <td>L</td>\n",
       "      <td>2</td>\n",
       "      <td>...</td>\n",
       "      <td>12</td>\n",
       "      <td>0</td>\n",
       "      <td>0</td>\n",
       "      <td>0</td>\n",
       "      <td>2</td>\n",
       "      <td>2</td>\n",
       "      <td>22</td>\n",
       "      <td>14</td>\n",
       "      <td>12</td>\n",
       "      <td>0</td>\n",
       "    </tr>\n",
       "    <tr>\n",
       "      <th>1</th>\n",
       "      <td>2020</td>\n",
       "      <td>SE</td>\n",
       "      <td>FT</td>\n",
       "      <td>Machine Learning Scientist</td>\n",
       "      <td>260000</td>\n",
       "      <td>JP</td>\n",
       "      <td>0</td>\n",
       "      <td>JP</td>\n",
       "      <td>S</td>\n",
       "      <td>3</td>\n",
       "      <td>...</td>\n",
       "      <td>29</td>\n",
       "      <td>2</td>\n",
       "      <td>0</td>\n",
       "      <td>0</td>\n",
       "      <td>3</td>\n",
       "      <td>2</td>\n",
       "      <td>41</td>\n",
       "      <td>32</td>\n",
       "      <td>29</td>\n",
       "      <td>2</td>\n",
       "    </tr>\n",
       "    <tr>\n",
       "      <th>2</th>\n",
       "      <td>2020</td>\n",
       "      <td>SE</td>\n",
       "      <td>FT</td>\n",
       "      <td>Big Data Engineer</td>\n",
       "      <td>109024</td>\n",
       "      <td>GB</td>\n",
       "      <td>50</td>\n",
       "      <td>GB</td>\n",
       "      <td>M</td>\n",
       "      <td>3</td>\n",
       "      <td>...</td>\n",
       "      <td>18</td>\n",
       "      <td>1</td>\n",
       "      <td>0</td>\n",
       "      <td>1</td>\n",
       "      <td>3</td>\n",
       "      <td>2</td>\n",
       "      <td>7</td>\n",
       "      <td>20</td>\n",
       "      <td>18</td>\n",
       "      <td>1</td>\n",
       "    </tr>\n",
       "    <tr>\n",
       "      <th>3</th>\n",
       "      <td>2020</td>\n",
       "      <td>MI</td>\n",
       "      <td>FT</td>\n",
       "      <td>Product Data Analyst</td>\n",
       "      <td>20000</td>\n",
       "      <td>HN</td>\n",
       "      <td>0</td>\n",
       "      <td>HN</td>\n",
       "      <td>S</td>\n",
       "      <td>2</td>\n",
       "      <td>...</td>\n",
       "      <td>20</td>\n",
       "      <td>2</td>\n",
       "      <td>0</td>\n",
       "      <td>0</td>\n",
       "      <td>2</td>\n",
       "      <td>2</td>\n",
       "      <td>47</td>\n",
       "      <td>23</td>\n",
       "      <td>20</td>\n",
       "      <td>2</td>\n",
       "    </tr>\n",
       "    <tr>\n",
       "      <th>4</th>\n",
       "      <td>2020</td>\n",
       "      <td>SE</td>\n",
       "      <td>FT</td>\n",
       "      <td>Machine Learning Engineer</td>\n",
       "      <td>150000</td>\n",
       "      <td>US</td>\n",
       "      <td>50</td>\n",
       "      <td>US</td>\n",
       "      <td>L</td>\n",
       "      <td>3</td>\n",
       "      <td>...</td>\n",
       "      <td>48</td>\n",
       "      <td>0</td>\n",
       "      <td>0</td>\n",
       "      <td>1</td>\n",
       "      <td>3</td>\n",
       "      <td>2</td>\n",
       "      <td>38</td>\n",
       "      <td>55</td>\n",
       "      <td>48</td>\n",
       "      <td>0</td>\n",
       "    </tr>\n",
       "  </tbody>\n",
       "</table>\n",
       "<p>5 rows × 23 columns</p>\n",
       "</div>"
      ],
      "text/plain": [
       "   work_year experience_level employment_type                   job_title  \\\n",
       "0       2020               MI              FT              Data Scientist   \n",
       "1       2020               SE              FT  Machine Learning Scientist   \n",
       "2       2020               SE              FT           Big Data Engineer   \n",
       "3       2020               MI              FT        Product Data Analyst   \n",
       "4       2020               SE              FT   Machine Learning Engineer   \n",
       "\n",
       "   salary_in_usd employee_residence  remote_ratio company_location  \\\n",
       "0          79833                 DE             0               DE   \n",
       "1         260000                 JP             0               JP   \n",
       "2         109024                 GB            50               GB   \n",
       "3          20000                 HN             0               HN   \n",
       "4         150000                 US            50               US   \n",
       "\n",
       "  company_size  experience_level_enc  ...  company_location_enc  \\\n",
       "0            L                     2  ...                    12   \n",
       "1            S                     3  ...                    29   \n",
       "2            M                     3  ...                    18   \n",
       "3            S                     2  ...                    20   \n",
       "4            L                     3  ...                    48   \n",
       "\n",
       "   company_size_enc  work_year_enc  remote_ratio_enc  \\\n",
       "0                 0              0                 0   \n",
       "1                 2              0                 0   \n",
       "2                 1              0                 1   \n",
       "3                 2              0                 0   \n",
       "4                 0              0                 1   \n",
       "\n",
       "   experience_level_enc_enc  employment_type_enc_enc  job_title_enc_enc  \\\n",
       "0                         2                        2                 22   \n",
       "1                         3                        2                 41   \n",
       "2                         3                        2                  7   \n",
       "3                         2                        2                 47   \n",
       "4                         3                        2                 38   \n",
       "\n",
       "   employee_residence_enc_enc  company_location_enc_enc  company_size_enc_enc  \n",
       "0                          14                        12                     0  \n",
       "1                          32                        29                     2  \n",
       "2                          20                        18                     1  \n",
       "3                          23                        20                     2  \n",
       "4                          55                        48                     0  \n",
       "\n",
       "[5 rows x 23 columns]"
      ]
     },
     "execution_count": 62,
     "metadata": {},
     "output_type": "execute_result"
    }
   ],
   "source": [
    "df.head()"
   ]
  },
  {
   "cell_type": "markdown",
   "id": "0336918a",
   "metadata": {},
   "source": [
    "Exercise: find which columns should be scaled and do it."
   ]
  },
  {
   "cell_type": "code",
   "execution_count": null,
   "id": "e343c4e0",
   "metadata": {},
   "outputs": [],
   "source": []
  },
  {
   "cell_type": "code",
   "execution_count": null,
   "id": "f8a56a55",
   "metadata": {},
   "outputs": [],
   "source": []
  },
  {
   "cell_type": "code",
   "execution_count": null,
   "id": "51e6df14",
   "metadata": {},
   "outputs": [],
   "source": []
  },
  {
   "cell_type": "code",
   "execution_count": null,
   "id": "97e98ccf",
   "metadata": {},
   "outputs": [],
   "source": []
  },
  {
   "cell_type": "code",
   "execution_count": null,
   "id": "ed3553e4",
   "metadata": {},
   "outputs": [],
   "source": []
  },
  {
   "cell_type": "code",
   "execution_count": 63,
   "id": "66255169",
   "metadata": {},
   "outputs": [],
   "source": [
    "# Hint, use:\n",
    "from sklearn.preprocessing import StandardScaler\n",
    "from sklearn.preprocessing import MinMaxScaler"
   ]
  },
  {
   "cell_type": "code",
   "execution_count": 64,
   "id": "7394b6f5",
   "metadata": {},
   "outputs": [],
   "source": [
    "# Preparing to scale.\n",
    "salary = df['salary_in_usd'].to_numpy()\n",
    "\n",
    "# Reshaping.\n",
    "salary = salary.reshape(-1,1)\n",
    "\n",
    "# Creating a new column with the scaled bit\n",
    "df['salary_in_usd_sc'] = MinMaxScaler().fit_transform(salary)"
   ]
  },
  {
   "cell_type": "code",
   "execution_count": 65,
   "id": "3bbca6f1",
   "metadata": {},
   "outputs": [
    {
     "data": {
      "text/html": [
       "<div>\n",
       "<style scoped>\n",
       "    .dataframe tbody tr th:only-of-type {\n",
       "        vertical-align: middle;\n",
       "    }\n",
       "\n",
       "    .dataframe tbody tr th {\n",
       "        vertical-align: top;\n",
       "    }\n",
       "\n",
       "    .dataframe thead th {\n",
       "        text-align: right;\n",
       "    }\n",
       "</style>\n",
       "<table border=\"1\" class=\"dataframe\">\n",
       "  <thead>\n",
       "    <tr style=\"text-align: right;\">\n",
       "      <th></th>\n",
       "      <th>work_year</th>\n",
       "      <th>experience_level</th>\n",
       "      <th>employment_type</th>\n",
       "      <th>job_title</th>\n",
       "      <th>salary_in_usd</th>\n",
       "      <th>employee_residence</th>\n",
       "      <th>remote_ratio</th>\n",
       "      <th>company_location</th>\n",
       "      <th>company_size</th>\n",
       "      <th>experience_level_enc</th>\n",
       "      <th>...</th>\n",
       "      <th>company_size_enc</th>\n",
       "      <th>work_year_enc</th>\n",
       "      <th>remote_ratio_enc</th>\n",
       "      <th>experience_level_enc_enc</th>\n",
       "      <th>employment_type_enc_enc</th>\n",
       "      <th>job_title_enc_enc</th>\n",
       "      <th>employee_residence_enc_enc</th>\n",
       "      <th>company_location_enc_enc</th>\n",
       "      <th>company_size_enc_enc</th>\n",
       "      <th>salary_in_usd_sc</th>\n",
       "    </tr>\n",
       "  </thead>\n",
       "  <tbody>\n",
       "    <tr>\n",
       "      <th>0</th>\n",
       "      <td>2020</td>\n",
       "      <td>MI</td>\n",
       "      <td>FT</td>\n",
       "      <td>Data Scientist</td>\n",
       "      <td>79833</td>\n",
       "      <td>DE</td>\n",
       "      <td>0</td>\n",
       "      <td>DE</td>\n",
       "      <td>L</td>\n",
       "      <td>2</td>\n",
       "      <td>...</td>\n",
       "      <td>0</td>\n",
       "      <td>0</td>\n",
       "      <td>0</td>\n",
       "      <td>2</td>\n",
       "      <td>2</td>\n",
       "      <td>22</td>\n",
       "      <td>14</td>\n",
       "      <td>12</td>\n",
       "      <td>0</td>\n",
       "      <td>0.128904</td>\n",
       "    </tr>\n",
       "    <tr>\n",
       "      <th>1</th>\n",
       "      <td>2020</td>\n",
       "      <td>SE</td>\n",
       "      <td>FT</td>\n",
       "      <td>Machine Learning Scientist</td>\n",
       "      <td>260000</td>\n",
       "      <td>JP</td>\n",
       "      <td>0</td>\n",
       "      <td>JP</td>\n",
       "      <td>S</td>\n",
       "      <td>3</td>\n",
       "      <td>...</td>\n",
       "      <td>2</td>\n",
       "      <td>0</td>\n",
       "      <td>0</td>\n",
       "      <td>3</td>\n",
       "      <td>2</td>\n",
       "      <td>41</td>\n",
       "      <td>32</td>\n",
       "      <td>29</td>\n",
       "      <td>2</td>\n",
       "      <td>0.430620</td>\n",
       "    </tr>\n",
       "    <tr>\n",
       "      <th>2</th>\n",
       "      <td>2020</td>\n",
       "      <td>SE</td>\n",
       "      <td>FT</td>\n",
       "      <td>Big Data Engineer</td>\n",
       "      <td>109024</td>\n",
       "      <td>GB</td>\n",
       "      <td>50</td>\n",
       "      <td>GB</td>\n",
       "      <td>M</td>\n",
       "      <td>3</td>\n",
       "      <td>...</td>\n",
       "      <td>1</td>\n",
       "      <td>0</td>\n",
       "      <td>1</td>\n",
       "      <td>3</td>\n",
       "      <td>2</td>\n",
       "      <td>7</td>\n",
       "      <td>20</td>\n",
       "      <td>18</td>\n",
       "      <td>1</td>\n",
       "      <td>0.177789</td>\n",
       "    </tr>\n",
       "    <tr>\n",
       "      <th>3</th>\n",
       "      <td>2020</td>\n",
       "      <td>MI</td>\n",
       "      <td>FT</td>\n",
       "      <td>Product Data Analyst</td>\n",
       "      <td>20000</td>\n",
       "      <td>HN</td>\n",
       "      <td>0</td>\n",
       "      <td>HN</td>\n",
       "      <td>S</td>\n",
       "      <td>2</td>\n",
       "      <td>...</td>\n",
       "      <td>2</td>\n",
       "      <td>0</td>\n",
       "      <td>0</td>\n",
       "      <td>2</td>\n",
       "      <td>2</td>\n",
       "      <td>47</td>\n",
       "      <td>23</td>\n",
       "      <td>20</td>\n",
       "      <td>2</td>\n",
       "      <td>0.028705</td>\n",
       "    </tr>\n",
       "    <tr>\n",
       "      <th>4</th>\n",
       "      <td>2020</td>\n",
       "      <td>SE</td>\n",
       "      <td>FT</td>\n",
       "      <td>Machine Learning Engineer</td>\n",
       "      <td>150000</td>\n",
       "      <td>US</td>\n",
       "      <td>50</td>\n",
       "      <td>US</td>\n",
       "      <td>L</td>\n",
       "      <td>3</td>\n",
       "      <td>...</td>\n",
       "      <td>0</td>\n",
       "      <td>0</td>\n",
       "      <td>1</td>\n",
       "      <td>3</td>\n",
       "      <td>2</td>\n",
       "      <td>38</td>\n",
       "      <td>55</td>\n",
       "      <td>48</td>\n",
       "      <td>0</td>\n",
       "      <td>0.246409</td>\n",
       "    </tr>\n",
       "  </tbody>\n",
       "</table>\n",
       "<p>5 rows × 24 columns</p>\n",
       "</div>"
      ],
      "text/plain": [
       "   work_year experience_level employment_type                   job_title  \\\n",
       "0       2020               MI              FT              Data Scientist   \n",
       "1       2020               SE              FT  Machine Learning Scientist   \n",
       "2       2020               SE              FT           Big Data Engineer   \n",
       "3       2020               MI              FT        Product Data Analyst   \n",
       "4       2020               SE              FT   Machine Learning Engineer   \n",
       "\n",
       "   salary_in_usd employee_residence  remote_ratio company_location  \\\n",
       "0          79833                 DE             0               DE   \n",
       "1         260000                 JP             0               JP   \n",
       "2         109024                 GB            50               GB   \n",
       "3          20000                 HN             0               HN   \n",
       "4         150000                 US            50               US   \n",
       "\n",
       "  company_size  experience_level_enc  ...  company_size_enc  work_year_enc  \\\n",
       "0            L                     2  ...                 0              0   \n",
       "1            S                     3  ...                 2              0   \n",
       "2            M                     3  ...                 1              0   \n",
       "3            S                     2  ...                 2              0   \n",
       "4            L                     3  ...                 0              0   \n",
       "\n",
       "   remote_ratio_enc  experience_level_enc_enc  employment_type_enc_enc  \\\n",
       "0                 0                         2                        2   \n",
       "1                 0                         3                        2   \n",
       "2                 1                         3                        2   \n",
       "3                 0                         2                        2   \n",
       "4                 1                         3                        2   \n",
       "\n",
       "   job_title_enc_enc  employee_residence_enc_enc  company_location_enc_enc  \\\n",
       "0                 22                          14                        12   \n",
       "1                 41                          32                        29   \n",
       "2                  7                          20                        18   \n",
       "3                 47                          23                        20   \n",
       "4                 38                          55                        48   \n",
       "\n",
       "   company_size_enc_enc  salary_in_usd_sc  \n",
       "0                     0          0.128904  \n",
       "1                     2          0.430620  \n",
       "2                     1          0.177789  \n",
       "3                     2          0.028705  \n",
       "4                     0          0.246409  \n",
       "\n",
       "[5 rows x 24 columns]"
      ]
     },
     "execution_count": 65,
     "metadata": {},
     "output_type": "execute_result"
    }
   ],
   "source": [
    "df.head()"
   ]
  },
  {
   "cell_type": "code",
   "execution_count": 66,
   "id": "b40f688d",
   "metadata": {},
   "outputs": [
    {
     "data": {
      "text/html": [
       "<div>\n",
       "<style scoped>\n",
       "    .dataframe tbody tr th:only-of-type {\n",
       "        vertical-align: middle;\n",
       "    }\n",
       "\n",
       "    .dataframe tbody tr th {\n",
       "        vertical-align: top;\n",
       "    }\n",
       "\n",
       "    .dataframe thead th {\n",
       "        text-align: right;\n",
       "    }\n",
       "</style>\n",
       "<table border=\"1\" class=\"dataframe\">\n",
       "  <thead>\n",
       "    <tr style=\"text-align: right;\">\n",
       "      <th></th>\n",
       "      <th>salary_in_usd_sc</th>\n",
       "      <th>salary_in_usd</th>\n",
       "    </tr>\n",
       "  </thead>\n",
       "  <tbody>\n",
       "    <tr>\n",
       "      <th>0</th>\n",
       "      <td>0.128904</td>\n",
       "      <td>79833</td>\n",
       "    </tr>\n",
       "    <tr>\n",
       "      <th>1</th>\n",
       "      <td>0.430620</td>\n",
       "      <td>260000</td>\n",
       "    </tr>\n",
       "    <tr>\n",
       "      <th>2</th>\n",
       "      <td>0.177789</td>\n",
       "      <td>109024</td>\n",
       "    </tr>\n",
       "    <tr>\n",
       "      <th>3</th>\n",
       "      <td>0.028705</td>\n",
       "      <td>20000</td>\n",
       "    </tr>\n",
       "    <tr>\n",
       "      <th>4</th>\n",
       "      <td>0.246409</td>\n",
       "      <td>150000</td>\n",
       "    </tr>\n",
       "    <tr>\n",
       "      <th>...</th>\n",
       "      <td>...</td>\n",
       "      <td>...</td>\n",
       "    </tr>\n",
       "    <tr>\n",
       "      <th>602</th>\n",
       "      <td>0.253108</td>\n",
       "      <td>154000</td>\n",
       "    </tr>\n",
       "    <tr>\n",
       "      <th>603</th>\n",
       "      <td>0.206218</td>\n",
       "      <td>126000</td>\n",
       "    </tr>\n",
       "    <tr>\n",
       "      <th>604</th>\n",
       "      <td>0.211242</td>\n",
       "      <td>129000</td>\n",
       "    </tr>\n",
       "    <tr>\n",
       "      <th>605</th>\n",
       "      <td>0.246409</td>\n",
       "      <td>150000</td>\n",
       "    </tr>\n",
       "    <tr>\n",
       "      <th>606</th>\n",
       "      <td>0.330141</td>\n",
       "      <td>200000</td>\n",
       "    </tr>\n",
       "  </tbody>\n",
       "</table>\n",
       "<p>607 rows × 2 columns</p>\n",
       "</div>"
      ],
      "text/plain": [
       "     salary_in_usd_sc  salary_in_usd\n",
       "0            0.128904          79833\n",
       "1            0.430620         260000\n",
       "2            0.177789         109024\n",
       "3            0.028705          20000\n",
       "4            0.246409         150000\n",
       "..                ...            ...\n",
       "602          0.253108         154000\n",
       "603          0.206218         126000\n",
       "604          0.211242         129000\n",
       "605          0.246409         150000\n",
       "606          0.330141         200000\n",
       "\n",
       "[607 rows x 2 columns]"
      ]
     },
     "execution_count": 66,
     "metadata": {},
     "output_type": "execute_result"
    }
   ],
   "source": [
    "df[['salary_in_usd_sc','salary_in_usd']]"
   ]
  },
  {
   "cell_type": "markdown",
   "id": "6109ef8d",
   "metadata": {},
   "source": [
    "Exercise: split the dataset into a training and test set."
   ]
  },
  {
   "cell_type": "code",
   "execution_count": null,
   "id": "38dd5583",
   "metadata": {},
   "outputs": [],
   "source": []
  },
  {
   "cell_type": "code",
   "execution_count": null,
   "id": "a47b5c4d",
   "metadata": {},
   "outputs": [],
   "source": []
  },
  {
   "cell_type": "code",
   "execution_count": null,
   "id": "fb212451",
   "metadata": {},
   "outputs": [],
   "source": []
  },
  {
   "cell_type": "code",
   "execution_count": null,
   "id": "751875fa",
   "metadata": {},
   "outputs": [],
   "source": []
  },
  {
   "cell_type": "code",
   "execution_count": 67,
   "id": "cb771cf4",
   "metadata": {},
   "outputs": [],
   "source": [
    "# hint.\n",
    "from sklearn.model_selection import train_test_split"
   ]
  },
  {
   "cell_type": "code",
   "execution_count": 68,
   "id": "f1599940",
   "metadata": {},
   "outputs": [],
   "source": [
    "train, test = train_test_split(df, random_state=42)"
   ]
  },
  {
   "cell_type": "code",
   "execution_count": 69,
   "id": "da564bff",
   "metadata": {},
   "outputs": [
    {
     "data": {
      "text/plain": [
       "Index(['work_year', 'experience_level', 'employment_type', 'job_title',\n",
       "       'salary_in_usd', 'employee_residence', 'remote_ratio',\n",
       "       'company_location', 'company_size', 'experience_level_enc',\n",
       "       'employment_type_enc', 'job_title_enc', 'employee_residence_enc',\n",
       "       'company_location_enc', 'company_size_enc', 'work_year_enc',\n",
       "       'remote_ratio_enc', 'experience_level_enc_enc',\n",
       "       'employment_type_enc_enc', 'job_title_enc_enc',\n",
       "       'employee_residence_enc_enc', 'company_location_enc_enc',\n",
       "       'company_size_enc_enc', 'salary_in_usd_sc'],\n",
       "      dtype='object')"
      ]
     },
     "execution_count": 69,
     "metadata": {},
     "output_type": "execute_result"
    }
   ],
   "source": [
    "df.keys()"
   ]
  },
  {
   "cell_type": "code",
   "execution_count": 70,
   "id": "9268db9a",
   "metadata": {},
   "outputs": [],
   "source": [
    "X_train = train[['experience_level_enc', 'employment_type_enc', 'job_title_enc',\n",
    "       'employee_residence_enc', 'company_location_enc',\n",
    "       'company_size_enc']]\n",
    "X_test = test[['experience_level_enc', 'employment_type_enc', 'job_title_enc',\n",
    "       'employee_residence_enc', 'company_location_enc',\n",
    "       'company_size_enc']]\n",
    "y_train = train['salary_in_usd_sc']\n",
    "y_test = test['salary_in_usd_sc']"
   ]
  },
  {
   "cell_type": "code",
   "execution_count": 71,
   "id": "12a381b0",
   "metadata": {},
   "outputs": [
    {
     "data": {
      "text/plain": [
       "pandas.core.frame.DataFrame"
      ]
     },
     "execution_count": 71,
     "metadata": {},
     "output_type": "execute_result"
    }
   ],
   "source": [
    "type(X_train)"
   ]
  },
  {
   "cell_type": "markdown",
   "id": "a83c6893",
   "metadata": {},
   "source": [
    "<h1>Decision Tree Regressor</h1>\n",
    "Now we will use the decision tree regressor \n",
    "\n",
    "[(Documentation)](https://scikit-learn.org/stable/modules/generated/sklearn.tree.DecisionTreeRegressor.html) \n",
    "\n",
    "to try to estimate the values."
   ]
  },
  {
   "cell_type": "code",
   "execution_count": null,
   "id": "367e9c46",
   "metadata": {},
   "outputs": [],
   "source": []
  },
  {
   "cell_type": "code",
   "execution_count": null,
   "id": "e4760ec2",
   "metadata": {},
   "outputs": [],
   "source": []
  },
  {
   "cell_type": "code",
   "execution_count": null,
   "id": "9572a6da",
   "metadata": {},
   "outputs": [],
   "source": []
  },
  {
   "cell_type": "code",
   "execution_count": null,
   "id": "19860108",
   "metadata": {},
   "outputs": [],
   "source": []
  },
  {
   "cell_type": "code",
   "execution_count": 72,
   "id": "3d5ae9eb",
   "metadata": {},
   "outputs": [],
   "source": [
    "from sklearn.tree import DecisionTreeRegressor"
   ]
  },
  {
   "cell_type": "code",
   "execution_count": 84,
   "id": "c4698205",
   "metadata": {},
   "outputs": [],
   "source": [
    "# Notice how similar it is with the classification trees.\n",
    "DTR = DecisionTreeRegressor(max_depth=999,random_state=42)\n",
    "\n",
    "DTR.fit(X_train,y_train)\n",
    "\n",
    "y_pred = DTR.predict(X_test)"
   ]
  },
  {
   "cell_type": "code",
   "execution_count": 85,
   "id": "9c1576b2",
   "metadata": {},
   "outputs": [
    {
     "data": {
      "text/plain": [
       "(-0.03744015232583259, 0.7862431988424843)"
      ]
     },
     "execution_count": 85,
     "metadata": {},
     "output_type": "execute_result"
    },
    {
     "data": {
      "image/png": "[encoded data removed]",
      "text/plain": [
       "<Figure size 1400x600 with 1 Axes>"
      ]
     },
     "metadata": {},
     "output_type": "display_data"
    }
   ],
   "source": [
    "fig, ax = plt.subplots(1,1,figsize=(14,6))\n",
    "\n",
    "ax.scatter(y_test,y_pred, s=10, label='Test')\n",
    "\n",
    "ax.set_title(f'Data scientist salary prediction')\n",
    "\n",
    "ax.legend()\n",
    "\n",
    "# Adding an x=y line.\n",
    "lims = [\n",
    "    np.min([ax.get_xlim(), ax.get_ylim()]),  # min of both axes\n",
    "    np.max([ax.get_xlim(), ax.get_ylim()]),  # max of both axes\n",
    "]\n",
    "\n",
    "# now plot both limits against eachother\n",
    "ax.plot(lims, lims, 'k-', alpha=0.75, zorder=0)\n",
    "ax.set_aspect('equal')\n",
    "ax.set_xlim(lims)\n",
    "ax.set_ylim(lims)"
   ]
  },
  {
   "cell_type": "markdown",
   "id": "98ef53f5",
   "metadata": {},
   "source": [
    "Exercise: calculate MAE and MSE."
   ]
  },
  {
   "cell_type": "code",
   "execution_count": null,
   "id": "fcecb006",
   "metadata": {},
   "outputs": [],
   "source": []
  },
  {
   "cell_type": "code",
   "execution_count": null,
   "id": "20641bcc",
   "metadata": {},
   "outputs": [],
   "source": []
  },
  {
   "cell_type": "code",
   "execution_count": null,
   "id": "839e04c2",
   "metadata": {},
   "outputs": [],
   "source": []
  },
  {
   "cell_type": "code",
   "execution_count": null,
   "id": "fe323a7f",
   "metadata": {},
   "outputs": [],
   "source": []
  },
  {
   "cell_type": "code",
   "execution_count": null,
   "id": "5273e3b4",
   "metadata": {},
   "outputs": [],
   "source": []
  },
  {
   "cell_type": "code",
   "execution_count": 79,
   "id": "0f13f64c",
   "metadata": {},
   "outputs": [],
   "source": [
    "# Hint.\n",
    "from sklearn.metrics import mean_absolute_error\n",
    "from sklearn.metrics import mean_squared_error"
   ]
  },
  {
   "cell_type": "code",
   "execution_count": 86,
   "id": "d0f1e868",
   "metadata": {},
   "outputs": [],
   "source": [
    "ys_mae = mean_absolute_error(y_test,y_pred)\n",
    "ys_mse = mean_squared_error(y_test,y_pred)"
   ]
  },
  {
   "cell_type": "code",
   "execution_count": 87,
   "id": "6d9e8abd",
   "metadata": {},
   "outputs": [
    {
     "data": {
      "text/plain": [
       "np.float64(0.06263679237128664)"
      ]
     },
     "execution_count": 87,
     "metadata": {},
     "output_type": "execute_result"
    }
   ],
   "source": [
    "ys_mae"
   ]
  },
  {
   "cell_type": "code",
   "execution_count": 88,
   "id": "5206c25a",
   "metadata": {},
   "outputs": [
    {
     "data": {
      "text/plain": [
       "(-0.03744015232583259, 0.7862431988424843)"
      ]
     },
     "execution_count": 88,
     "metadata": {},
     "output_type": "execute_result"
    },
    {
     "data": {
      "image/png": "[encoded data removed]",
      "text/plain": [
       "<Figure size 1400x600 with 1 Axes>"
      ]
     },
     "metadata": {},
     "output_type": "display_data"
    }
   ],
   "source": [
    "ys_mae = mean_absolute_error(y_test,y_pred)\n",
    "ys_mse = mean_squared_error(y_test,y_pred)\n",
    "\n",
    "fig, ax = plt.subplots(1,1,figsize=(14,6))\n",
    "\n",
    "ax.scatter(y_test,y_pred, s=10, label='Test')\n",
    "\n",
    "ax.set_title(f'Data scientist salary prediction \\n MAE:{ys_mae:.3f}, MSE:{ys_mse:.3f}')\n",
    "\n",
    "ax.legend()\n",
    "\n",
    "# Adding an x=y line.\n",
    "lims = [\n",
    "    np.min([ax.get_xlim(), ax.get_ylim()]),  # min of both axes\n",
    "    np.max([ax.get_xlim(), ax.get_ylim()]),  # max of both axes\n",
    "]\n",
    "\n",
    "# now plot both limits against eachother\n",
    "ax.plot(lims, lims, 'k-', alpha=0.75, zorder=0)\n",
    "ax.set_aspect('equal')\n",
    "ax.set_xlim(lims)\n",
    "ax.set_ylim(lims)"
   ]
  },
  {
   "cell_type": "markdown",
   "id": "d69db7a0",
   "metadata": {},
   "source": [
    "It is often useful to have an x=y line in to compare the results."
   ]
  },
  {
   "cell_type": "code",
   "execution_count": 83,
   "id": "703b24f4",
   "metadata": {},
   "outputs": [
    {
     "data": {
      "text/plain": [
       "(-0.03744015232583259, 0.7862431988424843)"
      ]
     },
     "execution_count": 83,
     "metadata": {},
     "output_type": "execute_result"
    },
    {
     "data": {
      "image/png": "[encoded data removed]",
      "text/plain": [
       "<Figure size 1400x600 with 1 Axes>"
      ]
     },
     "metadata": {},
     "output_type": "display_data"
    }
   ],
   "source": [
    "ys_mae = mean_absolute_error(y_test,y_pred)\n",
    "ys_mse = mean_squared_error(y_test,y_pred)\n",
    "\n",
    "fig, ax = plt.subplots(1,1,figsize=(14,6))\n",
    "\n",
    "ax.scatter(y_test,y_pred, s=10, label='Test')\n",
    "\n",
    "ax.set_title(f'Data scientist salary prediction \\n MAE:{ys_mae:.2f}, MSE:{ys_mse:.2f}')\n",
    "\n",
    "ax.legend()\n",
    "\n",
    "# Adding an x=y line.\n",
    "lims = [\n",
    "    np.min([ax.get_xlim(), ax.get_ylim()]),  # min of both axes\n",
    "    np.max([ax.get_xlim(), ax.get_ylim()]),  # max of both axes\n",
    "]\n",
    "\n",
    "# now plot both limits against eachother\n",
    "ax.plot(lims, lims, 'k-', alpha=0.75, zorder=0)\n",
    "ax.set_aspect('equal')\n",
    "ax.set_xlim(lims)\n",
    "ax.set_ylim(lims)"
   ]
  },
  {
   "cell_type": "markdown",
   "id": "b9314fdd",
   "metadata": {},
   "source": [
    "<h1>Random Forest Regressor</h1>\n",
    "\n",
    "Check the [Documentation](https://scikit-learn.org/stable/modules/generated/sklearn.ensemble.RandomForestRegressor.html)"
   ]
  },
  {
   "cell_type": "code",
   "execution_count": 89,
   "id": "b966c601",
   "metadata": {},
   "outputs": [],
   "source": [
    "from sklearn.ensemble import RandomForestRegressor"
   ]
  },
  {
   "cell_type": "markdown",
   "id": "918a56a0",
   "metadata": {},
   "source": [
    "Exercise: make a regression using the random forest regressor and plot your results."
   ]
  },
  {
   "cell_type": "code",
   "execution_count": null,
   "id": "ab49af21",
   "metadata": {},
   "outputs": [],
   "source": []
  },
  {
   "cell_type": "code",
   "execution_count": null,
   "id": "9aa2a0d7",
   "metadata": {},
   "outputs": [],
   "source": []
  },
  {
   "cell_type": "code",
   "execution_count": null,
   "id": "856dffe8",
   "metadata": {},
   "outputs": [],
   "source": []
  },
  {
   "cell_type": "code",
   "execution_count": null,
   "id": "ffa3450e",
   "metadata": {},
   "outputs": [],
   "source": []
  },
  {
   "cell_type": "code",
   "execution_count": 97,
   "id": "cedf62ba",
   "metadata": {},
   "outputs": [],
   "source": [
    "RFR = RandomForestRegressor(n_estimators=20,max_depth=2, random_state=42)\n",
    "\n",
    "RFR.fit(X_train,y_train)\n",
    "\n",
    "y_pred = RFR.predict(X_test)"
   ]
  },
  {
   "cell_type": "code",
   "execution_count": 98,
   "id": "dd488a12",
   "metadata": {},
   "outputs": [
    {
     "data": {
      "text/plain": [
       "(-0.03744015232583259, 0.7862431988424843)"
      ]
     },
     "execution_count": 98,
     "metadata": {},
     "output_type": "execute_result"
    },
    {
     "data": {
      "image/png": "[encoded data removed]",
      "text/plain": [
       "<Figure size 1400x600 with 1 Axes>"
      ]
     },
     "metadata": {},
     "output_type": "display_data"
    }
   ],
   "source": [
    "ys_mae = mean_absolute_error(y_test,y_pred)\n",
    "ys_mse = mean_squared_error(y_test,y_pred)\n",
    "\n",
    "fig, ax = plt.subplots(1,1,figsize=(14,6))\n",
    "\n",
    "ax.scatter(y_test,y_pred, s=10, label='Test')\n",
    "\n",
    "ax.set_title(f'Data scientist salary prediction \\n MAE:{ys_mae:.2f}, MSE:{ys_mse:.2f}')\n",
    "\n",
    "ax.legend()\n",
    "\n",
    "# Adding an x=y line.\n",
    "lims = [\n",
    "    np.min([ax.get_xlim(), ax.get_ylim()]),  # min of both axes\n",
    "    np.max([ax.get_xlim(), ax.get_ylim()]),  # max of both axes\n",
    "]\n",
    "\n",
    "# now plot both limits against eachother\n",
    "ax.plot(lims, lims, 'k-', alpha=0.75, zorder=0)\n",
    "ax.set_aspect('equal')\n",
    "ax.set_xlim(lims)\n",
    "ax.set_ylim(lims)"
   ]
  },
  {
   "cell_type": "code",
   "execution_count": 99,
   "id": "09a8f8ee",
   "metadata": {},
   "outputs": [
    {
     "data": {
      "text/plain": [
       "455"
      ]
     },
     "execution_count": 99,
     "metadata": {},
     "output_type": "execute_result"
    }
   ],
   "source": [
    "len(X_train)"
   ]
  },
  {
   "cell_type": "code",
   "execution_count": 100,
   "id": "df416fd5",
   "metadata": {},
   "outputs": [
    {
     "data": {
      "text/plain": [
       "152"
      ]
     },
     "execution_count": 100,
     "metadata": {},
     "output_type": "execute_result"
    }
   ],
   "source": [
    "len(X_test)"
   ]
  },
  {
   "cell_type": "markdown",
   "id": "b9d96e96",
   "metadata": {},
   "source": [
    "Exercise: try increasing the depth and observe how it changes"
   ]
  },
  {
   "cell_type": "code",
   "execution_count": null,
   "id": "46b45896",
   "metadata": {},
   "outputs": [],
   "source": []
  },
  {
   "cell_type": "markdown",
   "id": "566ebfba",
   "metadata": {},
   "source": [
    "<h1>Support Vector Machines</h1>\n",
    "\n",
    "Link to the [Documentation](https://scikit-learn.org/stable/modules/generated/sklearn.svm.SVR.html)"
   ]
  },
  {
   "cell_type": "code",
   "execution_count": null,
   "id": "2359dcb7",
   "metadata": {},
   "outputs": [],
   "source": [
    "from sklearn.svm import SVR"
   ]
  },
  {
   "cell_type": "markdown",
   "id": "cff33f19",
   "metadata": {},
   "source": [
    "Exercise: you know the drill."
   ]
  },
  {
   "cell_type": "code",
   "execution_count": null,
   "id": "4f9fb3c8",
   "metadata": {},
   "outputs": [],
   "source": []
  },
  {
   "cell_type": "code",
   "execution_count": null,
   "id": "c5134f73",
   "metadata": {},
   "outputs": [],
   "source": []
  },
  {
   "cell_type": "code",
   "execution_count": null,
   "id": "0a5571fd",
   "metadata": {},
   "outputs": [],
   "source": []
  },
  {
   "cell_type": "code",
   "execution_count": null,
   "id": "fbb3c290",
   "metadata": {},
   "outputs": [],
   "source": []
  },
  {
   "cell_type": "code",
   "execution_count": null,
   "id": "b5dac632",
   "metadata": {},
   "outputs": [],
   "source": []
  },
  {
   "cell_type": "code",
   "execution_count": null,
   "id": "6ecf567b",
   "metadata": {},
   "outputs": [],
   "source": [
    "rgr = SVR()\n",
    "\n",
    "rgr.fit(X_train,y_train)\n",
    "\n",
    "y_pred = rgr.predict(X_test)"
   ]
  },
  {
   "cell_type": "code",
   "execution_count": null,
   "id": "d507fa33",
   "metadata": {},
   "outputs": [],
   "source": [
    "ys_mae = mean_absolute_error(y_test,y_pred)\n",
    "ys_mse = mean_squared_error(y_test,y_pred)\n",
    "\n",
    "fig, ax = plt.subplots(1,1,figsize=(14,6))\n",
    "\n",
    "ax.scatter(y_test,y_pred, s=10, label='Test')\n",
    "\n",
    "ax.set_title(f'Data scientist salary prediction \\n MAE:{ys_mae:.2f}, MSE:{ys_mse:.2f}')\n",
    "\n",
    "ax.legend()\n",
    "\n",
    "# Adding an x=y line.\n",
    "lims = [\n",
    "    np.min([ax.get_xlim(), ax.get_ylim()]),  # min of both axes\n",
    "    np.max([ax.get_xlim(), ax.get_ylim()]),  # max of both axes\n",
    "]\n",
    "\n",
    "# now plot both limits against eachother\n",
    "ax.plot(lims, lims, 'k-', alpha=0.75, zorder=0)\n",
    "ax.set_aspect('equal')\n",
    "ax.set_xlim(lims)\n",
    "ax.set_ylim(lims)"
   ]
  },
  {
   "cell_type": "markdown",
   "id": "f41b4945",
   "metadata": {},
   "source": [
    "<h1>Pipelining</h1>"
   ]
  },
  {
   "cell_type": "code",
   "execution_count": null,
   "id": "c32ba06e",
   "metadata": {},
   "outputs": [],
   "source": [
    "from sklearn.pipeline import make_pipeline"
   ]
  },
  {
   "cell_type": "code",
   "execution_count": null,
   "id": "f8d7cefd",
   "metadata": {},
   "outputs": [],
   "source": [
    " # We don't need to put the scaler there because we already took care of it.\n",
    "regr = make_pipeline(SVR(C=1.0, epsilon=0.2))"
   ]
  },
  {
   "cell_type": "code",
   "execution_count": null,
   "id": "70c1f98c",
   "metadata": {},
   "outputs": [],
   "source": [
    "regr.fit(X_train,y_train)"
   ]
  },
  {
   "cell_type": "code",
   "execution_count": null,
   "id": "065e99a9",
   "metadata": {},
   "outputs": [],
   "source": [
    "# Checking which parameters can be tunned.\n",
    "regr.get_params()"
   ]
  },
  {
   "cell_type": "code",
   "execution_count": null,
   "id": "28974e55",
   "metadata": {},
   "outputs": [],
   "source": [
    "parameteres = {'svr__C':[0.001,0.1,10,100,10e5], 'svr__gamma':[0.1,0.01]}"
   ]
  },
  {
   "cell_type": "code",
   "execution_count": null,
   "id": "ce306a1a",
   "metadata": {},
   "outputs": [],
   "source": [
    "from sklearn.model_selection import GridSearchCV"
   ]
  },
  {
   "cell_type": "code",
   "execution_count": null,
   "id": "374cc158",
   "metadata": {},
   "outputs": [],
   "source": [
    "# defining the gridsearch.\n",
    "grid = GridSearchCV(regr, \n",
    "                    param_grid=parameteres, \n",
    "                    cv=5)"
   ]
  },
  {
   "cell_type": "code",
   "execution_count": null,
   "id": "7012e0d3",
   "metadata": {},
   "outputs": [],
   "source": [
    "grid.fit(X_train, y_train)\n",
    "print(\"score = %3.2f\" %(grid.score(X_test,y_test)))\n",
    "print(grid.best_params_)"
   ]
  },
  {
   "cell_type": "markdown",
   "id": "b1ce15d2",
   "metadata": {},
   "source": [
    "Final Exercise: improve the model accuracy. Feel free to use any methods and tools you see fit."
   ]
  },
  {
   "cell_type": "code",
   "execution_count": null,
   "id": "48ee7575",
   "metadata": {},
   "outputs": [],
   "source": []
  }
 ],
 "metadata": {
  "kernelspec": {
   "display_name": "Python 3",
   "language": "python",
   "name": "python3"
  },
  "language_info": {
   "codemirror_mode": {
    "name": "ipython",
    "version": 3
   },
   "file_extension": ".py",
   "mimetype": "text/x-python",
   "name": "python",
   "nbconvert_exporter": "python",
   "pygments_lexer": "ipython3",
   "version": "3.13.0"
  }
 },
 "nbformat": 4,
 "nbformat_minor": 5
}
